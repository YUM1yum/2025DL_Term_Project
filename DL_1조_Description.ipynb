{
  "nbformat": 4,
  "nbformat_minor": 0,
  "metadata": {
    "colab": {
      "provenance": [],
      "include_colab_link": true
    },
    "kernelspec": {
      "name": "python3",
      "display_name": "Python 3"
    },
    "language_info": {
      "name": "python"
    }
  },
  "cells": [
    {
      "cell_type": "markdown",
      "metadata": {
        "id": "view-in-github",
        "colab_type": "text"
      },
      "source": [
        "<a href=\"https://colab.research.google.com/github/YUM1yum/2025DL_Term_Project/blob/main/DL_1%EC%A1%B0_Description.ipynb\" target=\"_parent\"><img src=\"https://colab.research.google.com/assets/colab-badge.svg\" alt=\"Open In Colab\"/></a>"
      ]
    },
    {
      "cell_type": "markdown",
      "source": [
        "### 각종 패키지 설치 및 데이터 업로드"
      ],
      "metadata": {
        "id": "AtpRiMaP46zm"
      }
    },
    {
      "cell_type": "code",
      "source": [
        "!pip install bert-score"
      ],
      "metadata": {
        "colab": {
          "base_uri": "https://localhost:8080/",
          "height": 1000
        },
        "id": "_3nXiR1z-gFV",
        "outputId": "9a2ca94e-98c0-4351-d779-94394c816b42"
      },
      "execution_count": null,
      "outputs": [
        {
          "output_type": "stream",
          "name": "stdout",
          "text": [
            "Collecting bert-score\n",
            "  Downloading bert_score-0.3.13-py3-none-any.whl.metadata (15 kB)\n",
            "Requirement already satisfied: torch>=1.0.0 in /usr/local/lib/python3.11/dist-packages (from bert-score) (2.6.0+cu124)\n",
            "Requirement already satisfied: pandas>=1.0.1 in /usr/local/lib/python3.11/dist-packages (from bert-score) (2.2.2)\n",
            "Requirement already satisfied: transformers>=3.0.0 in /usr/local/lib/python3.11/dist-packages (from bert-score) (4.52.4)\n",
            "Requirement already satisfied: numpy in /usr/local/lib/python3.11/dist-packages (from bert-score) (2.0.2)\n",
            "Requirement already satisfied: requests in /usr/local/lib/python3.11/dist-packages (from bert-score) (2.32.3)\n",
            "Requirement already satisfied: tqdm>=4.31.1 in /usr/local/lib/python3.11/dist-packages (from bert-score) (4.67.1)\n",
            "Requirement already satisfied: matplotlib in /usr/local/lib/python3.11/dist-packages (from bert-score) (3.10.0)\n",
            "Requirement already satisfied: packaging>=20.9 in /usr/local/lib/python3.11/dist-packages (from bert-score) (24.2)\n",
            "Requirement already satisfied: python-dateutil>=2.8.2 in /usr/local/lib/python3.11/dist-packages (from pandas>=1.0.1->bert-score) (2.9.0.post0)\n",
            "Requirement already satisfied: pytz>=2020.1 in /usr/local/lib/python3.11/dist-packages (from pandas>=1.0.1->bert-score) (2025.2)\n",
            "Requirement already satisfied: tzdata>=2022.7 in /usr/local/lib/python3.11/dist-packages (from pandas>=1.0.1->bert-score) (2025.2)\n",
            "Requirement already satisfied: filelock in /usr/local/lib/python3.11/dist-packages (from torch>=1.0.0->bert-score) (3.18.0)\n",
            "Requirement already satisfied: typing-extensions>=4.10.0 in /usr/local/lib/python3.11/dist-packages (from torch>=1.0.0->bert-score) (4.14.0)\n",
            "Requirement already satisfied: networkx in /usr/local/lib/python3.11/dist-packages (from torch>=1.0.0->bert-score) (3.5)\n",
            "Requirement already satisfied: jinja2 in /usr/local/lib/python3.11/dist-packages (from torch>=1.0.0->bert-score) (3.1.6)\n",
            "Requirement already satisfied: fsspec in /usr/local/lib/python3.11/dist-packages (from torch>=1.0.0->bert-score) (2025.3.2)\n",
            "Collecting nvidia-cuda-nvrtc-cu12==12.4.127 (from torch>=1.0.0->bert-score)\n",
            "  Downloading nvidia_cuda_nvrtc_cu12-12.4.127-py3-none-manylinux2014_x86_64.whl.metadata (1.5 kB)\n",
            "Collecting nvidia-cuda-runtime-cu12==12.4.127 (from torch>=1.0.0->bert-score)\n",
            "  Downloading nvidia_cuda_runtime_cu12-12.4.127-py3-none-manylinux2014_x86_64.whl.metadata (1.5 kB)\n",
            "Collecting nvidia-cuda-cupti-cu12==12.4.127 (from torch>=1.0.0->bert-score)\n",
            "  Downloading nvidia_cuda_cupti_cu12-12.4.127-py3-none-manylinux2014_x86_64.whl.metadata (1.6 kB)\n",
            "Collecting nvidia-cudnn-cu12==9.1.0.70 (from torch>=1.0.0->bert-score)\n",
            "  Downloading nvidia_cudnn_cu12-9.1.0.70-py3-none-manylinux2014_x86_64.whl.metadata (1.6 kB)\n",
            "Collecting nvidia-cublas-cu12==12.4.5.8 (from torch>=1.0.0->bert-score)\n",
            "  Downloading nvidia_cublas_cu12-12.4.5.8-py3-none-manylinux2014_x86_64.whl.metadata (1.5 kB)\n",
            "Collecting nvidia-cufft-cu12==11.2.1.3 (from torch>=1.0.0->bert-score)\n",
            "  Downloading nvidia_cufft_cu12-11.2.1.3-py3-none-manylinux2014_x86_64.whl.metadata (1.5 kB)\n",
            "Collecting nvidia-curand-cu12==10.3.5.147 (from torch>=1.0.0->bert-score)\n",
            "  Downloading nvidia_curand_cu12-10.3.5.147-py3-none-manylinux2014_x86_64.whl.metadata (1.5 kB)\n",
            "Collecting nvidia-cusolver-cu12==11.6.1.9 (from torch>=1.0.0->bert-score)\n",
            "  Downloading nvidia_cusolver_cu12-11.6.1.9-py3-none-manylinux2014_x86_64.whl.metadata (1.6 kB)\n",
            "Collecting nvidia-cusparse-cu12==12.3.1.170 (from torch>=1.0.0->bert-score)\n",
            "  Downloading nvidia_cusparse_cu12-12.3.1.170-py3-none-manylinux2014_x86_64.whl.metadata (1.6 kB)\n",
            "Requirement already satisfied: nvidia-cusparselt-cu12==0.6.2 in /usr/local/lib/python3.11/dist-packages (from torch>=1.0.0->bert-score) (0.6.2)\n",
            "Requirement already satisfied: nvidia-nccl-cu12==2.21.5 in /usr/local/lib/python3.11/dist-packages (from torch>=1.0.0->bert-score) (2.21.5)\n",
            "Requirement already satisfied: nvidia-nvtx-cu12==12.4.127 in /usr/local/lib/python3.11/dist-packages (from torch>=1.0.0->bert-score) (12.4.127)\n",
            "Collecting nvidia-nvjitlink-cu12==12.4.127 (from torch>=1.0.0->bert-score)\n",
            "  Downloading nvidia_nvjitlink_cu12-12.4.127-py3-none-manylinux2014_x86_64.whl.metadata (1.5 kB)\n",
            "Requirement already satisfied: triton==3.2.0 in /usr/local/lib/python3.11/dist-packages (from torch>=1.0.0->bert-score) (3.2.0)\n",
            "Requirement already satisfied: sympy==1.13.1 in /usr/local/lib/python3.11/dist-packages (from torch>=1.0.0->bert-score) (1.13.1)\n",
            "Requirement already satisfied: mpmath<1.4,>=1.1.0 in /usr/local/lib/python3.11/dist-packages (from sympy==1.13.1->torch>=1.0.0->bert-score) (1.3.0)\n",
            "Requirement already satisfied: huggingface-hub<1.0,>=0.30.0 in /usr/local/lib/python3.11/dist-packages (from transformers>=3.0.0->bert-score) (0.33.0)\n",
            "Requirement already satisfied: pyyaml>=5.1 in /usr/local/lib/python3.11/dist-packages (from transformers>=3.0.0->bert-score) (6.0.2)\n",
            "Requirement already satisfied: regex!=2019.12.17 in /usr/local/lib/python3.11/dist-packages (from transformers>=3.0.0->bert-score) (2024.11.6)\n",
            "Requirement already satisfied: tokenizers<0.22,>=0.21 in /usr/local/lib/python3.11/dist-packages (from transformers>=3.0.0->bert-score) (0.21.1)\n",
            "Requirement already satisfied: safetensors>=0.4.3 in /usr/local/lib/python3.11/dist-packages (from transformers>=3.0.0->bert-score) (0.5.3)\n",
            "Requirement already satisfied: contourpy>=1.0.1 in /usr/local/lib/python3.11/dist-packages (from matplotlib->bert-score) (1.3.2)\n",
            "Requirement already satisfied: cycler>=0.10 in /usr/local/lib/python3.11/dist-packages (from matplotlib->bert-score) (0.12.1)\n",
            "Requirement already satisfied: fonttools>=4.22.0 in /usr/local/lib/python3.11/dist-packages (from matplotlib->bert-score) (4.58.4)\n",
            "Requirement already satisfied: kiwisolver>=1.3.1 in /usr/local/lib/python3.11/dist-packages (from matplotlib->bert-score) (1.4.8)\n",
            "Requirement already satisfied: pillow>=8 in /usr/local/lib/python3.11/dist-packages (from matplotlib->bert-score) (11.2.1)\n",
            "Requirement already satisfied: pyparsing>=2.3.1 in /usr/local/lib/python3.11/dist-packages (from matplotlib->bert-score) (3.2.3)\n",
            "Requirement already satisfied: charset-normalizer<4,>=2 in /usr/local/lib/python3.11/dist-packages (from requests->bert-score) (3.4.2)\n",
            "Requirement already satisfied: idna<4,>=2.5 in /usr/local/lib/python3.11/dist-packages (from requests->bert-score) (3.10)\n",
            "Requirement already satisfied: urllib3<3,>=1.21.1 in /usr/local/lib/python3.11/dist-packages (from requests->bert-score) (2.4.0)\n",
            "Requirement already satisfied: certifi>=2017.4.17 in /usr/local/lib/python3.11/dist-packages (from requests->bert-score) (2025.6.15)\n",
            "Requirement already satisfied: hf-xet<2.0.0,>=1.1.2 in /usr/local/lib/python3.11/dist-packages (from huggingface-hub<1.0,>=0.30.0->transformers>=3.0.0->bert-score) (1.1.3)\n",
            "Requirement already satisfied: six>=1.5 in /usr/local/lib/python3.11/dist-packages (from python-dateutil>=2.8.2->pandas>=1.0.1->bert-score) (1.17.0)\n",
            "Requirement already satisfied: MarkupSafe>=2.0 in /usr/local/lib/python3.11/dist-packages (from jinja2->torch>=1.0.0->bert-score) (3.0.2)\n",
            "Downloading bert_score-0.3.13-py3-none-any.whl (61 kB)\n",
            "\u001b[2K   \u001b[90m━━━━━━━━━━━━━━━━━━━━━━━━━━━━━━━━━━━━━━━━\u001b[0m \u001b[32m61.1/61.1 kB\u001b[0m \u001b[31m2.9 MB/s\u001b[0m eta \u001b[36m0:00:00\u001b[0m\n",
            "\u001b[?25hDownloading nvidia_cublas_cu12-12.4.5.8-py3-none-manylinux2014_x86_64.whl (363.4 MB)\n",
            "\u001b[2K   \u001b[90m━━━━━━━━━━━━━━━━━━━━━━━━━━━━━━━━━━━━━━━━\u001b[0m \u001b[32m363.4/363.4 MB\u001b[0m \u001b[31m1.4 MB/s\u001b[0m eta \u001b[36m0:00:00\u001b[0m\n",
            "\u001b[?25hDownloading nvidia_cuda_cupti_cu12-12.4.127-py3-none-manylinux2014_x86_64.whl (13.8 MB)\n",
            "\u001b[2K   \u001b[90m━━━━━━━━━━━━━━━━━━━━━━━━━━━━━━━━━━━━━━━━\u001b[0m \u001b[32m13.8/13.8 MB\u001b[0m \u001b[31m13.9 MB/s\u001b[0m eta \u001b[36m0:00:00\u001b[0m\n",
            "\u001b[?25hDownloading nvidia_cuda_nvrtc_cu12-12.4.127-py3-none-manylinux2014_x86_64.whl (24.6 MB)\n",
            "\u001b[2K   \u001b[90m━━━━━━━━━━━━━━━━━━━━━━━━━━━━━━━━━━━━━━━━\u001b[0m \u001b[32m24.6/24.6 MB\u001b[0m \u001b[31m24.3 MB/s\u001b[0m eta \u001b[36m0:00:00\u001b[0m\n",
            "\u001b[?25hDownloading nvidia_cuda_runtime_cu12-12.4.127-py3-none-manylinux2014_x86_64.whl (883 kB)\n",
            "\u001b[2K   \u001b[90m━━━━━━━━━━━━━━━━━━━━━━━━━━━━━━━━━━━━━━━━\u001b[0m \u001b[32m883.7/883.7 kB\u001b[0m \u001b[31m44.0 MB/s\u001b[0m eta \u001b[36m0:00:00\u001b[0m\n",
            "\u001b[?25hDownloading nvidia_cudnn_cu12-9.1.0.70-py3-none-manylinux2014_x86_64.whl (664.8 MB)\n",
            "\u001b[2K   \u001b[90m━━━━━━━━━━━━━━━━━━━━━━━━━━━━━━━━━━━━━━━\u001b[0m \u001b[32m664.8/664.8 MB\u001b[0m \u001b[31m871.3 kB/s\u001b[0m eta \u001b[36m0:00:00\u001b[0m\n",
            "\u001b[?25hDownloading nvidia_cufft_cu12-11.2.1.3-py3-none-manylinux2014_x86_64.whl (211.5 MB)\n",
            "\u001b[2K   \u001b[90m━━━━━━━━━━━━━━━━━━━━━━━━━━━━━━━━━━━━━━━━\u001b[0m \u001b[32m211.5/211.5 MB\u001b[0m \u001b[31m?\u001b[0m eta \u001b[36m0:00:00\u001b[0m\n",
            "\u001b[?25hDownloading nvidia_curand_cu12-10.3.5.147-py3-none-manylinux2014_x86_64.whl (56.3 MB)\n",
            "\u001b[2K   \u001b[90m━━━━━━━━━━━━━━━━━━━━━━━━━━━━━━━━━━━━━━━━\u001b[0m \u001b[32m56.3/56.3 MB\u001b[0m \u001b[31m11.6 MB/s\u001b[0m eta \u001b[36m0:00:00\u001b[0m\n",
            "\u001b[?25hDownloading nvidia_cusolver_cu12-11.6.1.9-py3-none-manylinux2014_x86_64.whl (127.9 MB)\n",
            "\u001b[2K   \u001b[90m━━━━━━━━━━━━━━━━━━━━━━━━━━━━━━━━━━━━━━━━\u001b[0m \u001b[32m127.9/127.9 MB\u001b[0m \u001b[31m1.8 MB/s\u001b[0m eta \u001b[36m0:00:00\u001b[0m\n",
            "\u001b[?25hDownloading nvidia_cusparse_cu12-12.3.1.170-py3-none-manylinux2014_x86_64.whl (207.5 MB)\n",
            "\u001b[2K   \u001b[90m━━━━━━━━━━━━━━━━━━━━━━━━━━━━━━━━━━━━━━━━\u001b[0m \u001b[32m207.5/207.5 MB\u001b[0m \u001b[31m2.7 MB/s\u001b[0m eta \u001b[36m0:00:00\u001b[0m\n",
            "\u001b[?25hDownloading nvidia_nvjitlink_cu12-12.4.127-py3-none-manylinux2014_x86_64.whl (21.1 MB)\n",
            "\u001b[2K   \u001b[90m━━━━━━━━━━━━━━━━━━━━━━━━━━━━━━━━━━━━━━━━\u001b[0m \u001b[32m21.1/21.1 MB\u001b[0m \u001b[31m8.5 MB/s\u001b[0m eta \u001b[36m0:00:00\u001b[0m\n",
            "\u001b[?25hInstalling collected packages: nvidia-nvjitlink-cu12, nvidia-curand-cu12, nvidia-cufft-cu12, nvidia-cuda-runtime-cu12, nvidia-cuda-nvrtc-cu12, nvidia-cuda-cupti-cu12, nvidia-cublas-cu12, nvidia-cusparse-cu12, nvidia-cudnn-cu12, nvidia-cusolver-cu12, bert-score\n",
            "  Attempting uninstall: nvidia-nvjitlink-cu12\n",
            "    Found existing installation: nvidia-nvjitlink-cu12 12.5.82\n",
            "    Uninstalling nvidia-nvjitlink-cu12-12.5.82:\n",
            "      Successfully uninstalled nvidia-nvjitlink-cu12-12.5.82\n",
            "  Attempting uninstall: nvidia-curand-cu12\n",
            "    Found existing installation: nvidia-curand-cu12 10.3.6.82\n",
            "    Uninstalling nvidia-curand-cu12-10.3.6.82:\n",
            "      Successfully uninstalled nvidia-curand-cu12-10.3.6.82\n",
            "  Attempting uninstall: nvidia-cufft-cu12\n",
            "    Found existing installation: nvidia-cufft-cu12 11.2.3.61\n",
            "    Uninstalling nvidia-cufft-cu12-11.2.3.61:\n",
            "      Successfully uninstalled nvidia-cufft-cu12-11.2.3.61\n",
            "  Attempting uninstall: nvidia-cuda-runtime-cu12\n",
            "    Found existing installation: nvidia-cuda-runtime-cu12 12.5.82\n",
            "    Uninstalling nvidia-cuda-runtime-cu12-12.5.82:\n",
            "      Successfully uninstalled nvidia-cuda-runtime-cu12-12.5.82\n",
            "  Attempting uninstall: nvidia-cuda-nvrtc-cu12\n",
            "    Found existing installation: nvidia-cuda-nvrtc-cu12 12.5.82\n",
            "    Uninstalling nvidia-cuda-nvrtc-cu12-12.5.82:\n",
            "      Successfully uninstalled nvidia-cuda-nvrtc-cu12-12.5.82\n",
            "  Attempting uninstall: nvidia-cuda-cupti-cu12\n",
            "    Found existing installation: nvidia-cuda-cupti-cu12 12.5.82\n",
            "    Uninstalling nvidia-cuda-cupti-cu12-12.5.82:\n",
            "      Successfully uninstalled nvidia-cuda-cupti-cu12-12.5.82\n",
            "  Attempting uninstall: nvidia-cublas-cu12\n",
            "    Found existing installation: nvidia-cublas-cu12 12.5.3.2\n",
            "    Uninstalling nvidia-cublas-cu12-12.5.3.2:\n",
            "      Successfully uninstalled nvidia-cublas-cu12-12.5.3.2\n",
            "  Attempting uninstall: nvidia-cusparse-cu12\n",
            "    Found existing installation: nvidia-cusparse-cu12 12.5.1.3\n",
            "    Uninstalling nvidia-cusparse-cu12-12.5.1.3:\n",
            "      Successfully uninstalled nvidia-cusparse-cu12-12.5.1.3\n",
            "  Attempting uninstall: nvidia-cudnn-cu12\n",
            "    Found existing installation: nvidia-cudnn-cu12 9.3.0.75\n",
            "    Uninstalling nvidia-cudnn-cu12-9.3.0.75:\n",
            "      Successfully uninstalled nvidia-cudnn-cu12-9.3.0.75\n",
            "  Attempting uninstall: nvidia-cusolver-cu12\n",
            "    Found existing installation: nvidia-cusolver-cu12 11.6.3.83\n",
            "    Uninstalling nvidia-cusolver-cu12-11.6.3.83:\n",
            "      Successfully uninstalled nvidia-cusolver-cu12-11.6.3.83\n",
            "Successfully installed bert-score-0.3.13 nvidia-cublas-cu12-12.4.5.8 nvidia-cuda-cupti-cu12-12.4.127 nvidia-cuda-nvrtc-cu12-12.4.127 nvidia-cuda-runtime-cu12-12.4.127 nvidia-cudnn-cu12-9.1.0.70 nvidia-cufft-cu12-11.2.1.3 nvidia-curand-cu12-10.3.5.147 nvidia-cusolver-cu12-11.6.1.9 nvidia-cusparse-cu12-12.3.1.170 nvidia-nvjitlink-cu12-12.4.127\n"
          ]
        },
        {
          "output_type": "display_data",
          "data": {
            "application/vnd.colab-display-data+json": {
              "pip_warning": {
                "packages": [
                  "nvidia"
                ]
              },
              "id": "7256367281894e659fccc3688961a4e1"
            }
          },
          "metadata": {}
        }
      ]
    },
    {
      "cell_type": "code",
      "source": [
        "!pip install evaluate"
      ],
      "metadata": {
        "colab": {
          "base_uri": "https://localhost:8080/"
        },
        "id": "FAL1aH9YKj7m",
        "outputId": "019bb1b3-2b94-495d-eb69-132ff3cd2d35"
      },
      "execution_count": null,
      "outputs": [
        {
          "output_type": "stream",
          "name": "stdout",
          "text": [
            "Collecting evaluate\n",
            "  Downloading evaluate-0.4.4-py3-none-any.whl.metadata (9.5 kB)\n",
            "Requirement already satisfied: datasets>=2.0.0 in /usr/local/lib/python3.11/dist-packages (from evaluate) (2.14.4)\n",
            "Requirement already satisfied: numpy>=1.17 in /usr/local/lib/python3.11/dist-packages (from evaluate) (2.0.2)\n",
            "Requirement already satisfied: dill in /usr/local/lib/python3.11/dist-packages (from evaluate) (0.3.7)\n",
            "Requirement already satisfied: pandas in /usr/local/lib/python3.11/dist-packages (from evaluate) (2.2.2)\n",
            "Requirement already satisfied: requests>=2.19.0 in /usr/local/lib/python3.11/dist-packages (from evaluate) (2.32.3)\n",
            "Requirement already satisfied: tqdm>=4.62.1 in /usr/local/lib/python3.11/dist-packages (from evaluate) (4.67.1)\n",
            "Requirement already satisfied: xxhash in /usr/local/lib/python3.11/dist-packages (from evaluate) (3.5.0)\n",
            "Requirement already satisfied: multiprocess in /usr/local/lib/python3.11/dist-packages (from evaluate) (0.70.15)\n",
            "Requirement already satisfied: fsspec>=2021.05.0 in /usr/local/lib/python3.11/dist-packages (from fsspec[http]>=2021.05.0->evaluate) (2025.3.2)\n",
            "Requirement already satisfied: huggingface-hub>=0.7.0 in /usr/local/lib/python3.11/dist-packages (from evaluate) (0.33.0)\n",
            "Requirement already satisfied: packaging in /usr/local/lib/python3.11/dist-packages (from evaluate) (24.2)\n",
            "Requirement already satisfied: pyarrow>=8.0.0 in /usr/local/lib/python3.11/dist-packages (from datasets>=2.0.0->evaluate) (18.1.0)\n",
            "Requirement already satisfied: aiohttp in /usr/local/lib/python3.11/dist-packages (from datasets>=2.0.0->evaluate) (3.11.15)\n",
            "Requirement already satisfied: pyyaml>=5.1 in /usr/local/lib/python3.11/dist-packages (from datasets>=2.0.0->evaluate) (6.0.2)\n",
            "Requirement already satisfied: filelock in /usr/local/lib/python3.11/dist-packages (from huggingface-hub>=0.7.0->evaluate) (3.18.0)\n",
            "Requirement already satisfied: typing-extensions>=3.7.4.3 in /usr/local/lib/python3.11/dist-packages (from huggingface-hub>=0.7.0->evaluate) (4.14.0)\n",
            "Requirement already satisfied: hf-xet<2.0.0,>=1.1.2 in /usr/local/lib/python3.11/dist-packages (from huggingface-hub>=0.7.0->evaluate) (1.1.3)\n",
            "Requirement already satisfied: charset-normalizer<4,>=2 in /usr/local/lib/python3.11/dist-packages (from requests>=2.19.0->evaluate) (3.4.2)\n",
            "Requirement already satisfied: idna<4,>=2.5 in /usr/local/lib/python3.11/dist-packages (from requests>=2.19.0->evaluate) (3.10)\n",
            "Requirement already satisfied: urllib3<3,>=1.21.1 in /usr/local/lib/python3.11/dist-packages (from requests>=2.19.0->evaluate) (2.4.0)\n",
            "Requirement already satisfied: certifi>=2017.4.17 in /usr/local/lib/python3.11/dist-packages (from requests>=2.19.0->evaluate) (2025.6.15)\n",
            "Requirement already satisfied: python-dateutil>=2.8.2 in /usr/local/lib/python3.11/dist-packages (from pandas->evaluate) (2.9.0.post0)\n",
            "Requirement already satisfied: pytz>=2020.1 in /usr/local/lib/python3.11/dist-packages (from pandas->evaluate) (2025.2)\n",
            "Requirement already satisfied: tzdata>=2022.7 in /usr/local/lib/python3.11/dist-packages (from pandas->evaluate) (2025.2)\n",
            "Requirement already satisfied: aiohappyeyeballs>=2.3.0 in /usr/local/lib/python3.11/dist-packages (from aiohttp->datasets>=2.0.0->evaluate) (2.6.1)\n",
            "Requirement already satisfied: aiosignal>=1.1.2 in /usr/local/lib/python3.11/dist-packages (from aiohttp->datasets>=2.0.0->evaluate) (1.3.2)\n",
            "Requirement already satisfied: attrs>=17.3.0 in /usr/local/lib/python3.11/dist-packages (from aiohttp->datasets>=2.0.0->evaluate) (25.3.0)\n",
            "Requirement already satisfied: frozenlist>=1.1.1 in /usr/local/lib/python3.11/dist-packages (from aiohttp->datasets>=2.0.0->evaluate) (1.7.0)\n",
            "Requirement already satisfied: multidict<7.0,>=4.5 in /usr/local/lib/python3.11/dist-packages (from aiohttp->datasets>=2.0.0->evaluate) (6.4.4)\n",
            "Requirement already satisfied: propcache>=0.2.0 in /usr/local/lib/python3.11/dist-packages (from aiohttp->datasets>=2.0.0->evaluate) (0.3.2)\n",
            "Requirement already satisfied: yarl<2.0,>=1.17.0 in /usr/local/lib/python3.11/dist-packages (from aiohttp->datasets>=2.0.0->evaluate) (1.20.1)\n",
            "Requirement already satisfied: six>=1.5 in /usr/local/lib/python3.11/dist-packages (from python-dateutil>=2.8.2->pandas->evaluate) (1.17.0)\n",
            "Downloading evaluate-0.4.4-py3-none-any.whl (84 kB)\n",
            "\u001b[2K   \u001b[90m━━━━━━━━━━━━━━━━━━━━━━━━━━━━━━━━━━━━━━━━\u001b[0m \u001b[32m84.1/84.1 kB\u001b[0m \u001b[31m3.6 MB/s\u001b[0m eta \u001b[36m0:00:00\u001b[0m\n",
            "\u001b[?25hInstalling collected packages: evaluate\n",
            "Successfully installed evaluate-0.4.4\n"
          ]
        }
      ]
    },
    {
      "cell_type": "code",
      "source": [
        "!pip install rouge_score"
      ],
      "metadata": {
        "colab": {
          "base_uri": "https://localhost:8080/"
        },
        "id": "FmcvgGB4K2WK",
        "outputId": "2ad75ce7-49c4-4663-8443-7cc30241dceb"
      },
      "execution_count": null,
      "outputs": [
        {
          "output_type": "stream",
          "name": "stdout",
          "text": [
            "Collecting rouge_score\n",
            "  Downloading rouge_score-0.1.2.tar.gz (17 kB)\n",
            "  Preparing metadata (setup.py) ... \u001b[?25l\u001b[?25hdone\n",
            "Requirement already satisfied: absl-py in /usr/local/lib/python3.11/dist-packages (from rouge_score) (1.4.0)\n",
            "Requirement already satisfied: nltk in /usr/local/lib/python3.11/dist-packages (from rouge_score) (3.9.1)\n",
            "Requirement already satisfied: numpy in /usr/local/lib/python3.11/dist-packages (from rouge_score) (2.0.2)\n",
            "Requirement already satisfied: six>=1.14.0 in /usr/local/lib/python3.11/dist-packages (from rouge_score) (1.17.0)\n",
            "Requirement already satisfied: click in /usr/local/lib/python3.11/dist-packages (from nltk->rouge_score) (8.2.1)\n",
            "Requirement already satisfied: joblib in /usr/local/lib/python3.11/dist-packages (from nltk->rouge_score) (1.5.1)\n",
            "Requirement already satisfied: regex>=2021.8.3 in /usr/local/lib/python3.11/dist-packages (from nltk->rouge_score) (2024.11.6)\n",
            "Requirement already satisfied: tqdm in /usr/local/lib/python3.11/dist-packages (from nltk->rouge_score) (4.67.1)\n",
            "Building wheels for collected packages: rouge_score\n",
            "  Building wheel for rouge_score (setup.py) ... \u001b[?25l\u001b[?25hdone\n",
            "  Created wheel for rouge_score: filename=rouge_score-0.1.2-py3-none-any.whl size=24934 sha256=7802a336da33755bfb7971741329283972586495717defa4f4fb431c4f69cf26\n",
            "  Stored in directory: /root/.cache/pip/wheels/1e/19/43/8a442dc83660ca25e163e1bd1f89919284ab0d0c1475475148\n",
            "Successfully built rouge_score\n",
            "Installing collected packages: rouge_score\n",
            "Successfully installed rouge_score-0.1.2\n"
          ]
        }
      ]
    },
    {
      "cell_type": "code",
      "source": [
        "!unzip images.zip -d ./images"
      ],
      "metadata": {
        "colab": {
          "base_uri": "https://localhost:8080/"
        },
        "id": "DLqc6l0LJ5En",
        "outputId": "afdbc529-fd7e-4507-ba52-cfb48a4dc062"
      },
      "execution_count": null,
      "outputs": [
        {
          "output_type": "stream",
          "name": "stdout",
          "text": [
            "Archive:  images.zip\n",
            "  inflating: ./images/a030105.png    \n",
            "  inflating: ./images/a030125.png    \n",
            "  inflating: ./images/a030158.png    \n",
            "  inflating: ./images/a030259.png    \n",
            "  inflating: ./images/a030425.png    \n",
            "  inflating: ./images/a030708.png    \n",
            "  inflating: ./images/a030937.png    \n",
            "  inflating: ./images/a031041.png    \n",
            "  inflating: ./images/a031123.png    \n",
            "  inflating: ./images/a031451.png    \n",
            "  inflating: ./images/a031510.png    \n",
            "  inflating: ./images/a115252.png    \n",
            "  inflating: ./images/aaa1.png       \n",
            "  inflating: ./images/aaa2.png       \n",
            "  inflating: ./images/aaa3.png       \n",
            "  inflating: ./images/aaaa.png       \n",
            "  inflating: ./images/ak3.png        \n",
            "  inflating: ./images/akk4.png       \n",
            "  inflating: ./images/akk5.png       \n",
            "  inflating: ./images/akk6.png       \n",
            "  inflating: ./images/aksyd2.png     \n",
            "  inflating: ./images/aksyd4.png     \n",
            "  inflating: ./images/cgv.png        \n",
            "  inflating: ./images/image1 (1).png  \n",
            "  inflating: ./images/image1 (2).png  \n",
            "  inflating: ./images/image1.png     \n",
            "  inflating: ./images/image2 (1).png  \n",
            "  inflating: ./images/image2 (2).png  \n",
            "  inflating: ./images/image2.png     \n",
            "  inflating: ./images/image3 (1).png  \n",
            "  inflating: ./images/image3 (2).png  \n",
            "  inflating: ./images/image3.png     \n",
            "  inflating: ./images/image4 (1).png  \n",
            "  inflating: ./images/image4 (2).png  \n",
            "  inflating: ./images/image4.png     \n",
            "  inflating: ./images/image5 (1).png  \n",
            "  inflating: ./images/image5 (2).png  \n",
            "  inflating: ./images/image5.png     \n",
            "  inflating: ./images/image6 (1).png  \n",
            "  inflating: ./images/image6 (2).png  \n",
            "  inflating: ./images/image6.png     \n",
            "  inflating: ./images/image7 (1).png  \n",
            "  inflating: ./images/image7 (2).png  \n",
            "  inflating: ./images/image7.png     \n",
            "  inflating: ./images/image8 (1).png  \n",
            "  inflating: ./images/image8 (2).png  \n",
            "  inflating: ./images/image8.png     \n",
            "  inflating: ./images/image9 (1).png  \n",
            "  inflating: ./images/image9 (2).png  \n",
            "  inflating: ./images/image9.png     \n",
            "  inflating: ./images/image10 (1).png  \n",
            "  inflating: ./images/image10 (2).png  \n",
            "  inflating: ./images/image10.png    \n",
            "  inflating: ./images/image11 (1).png  \n",
            "  inflating: ./images/image11 (2).png  \n",
            "  inflating: ./images/image11.png    \n",
            "  inflating: ./images/image12 (1).png  \n",
            "  inflating: ./images/image12 (2).png  \n",
            "  inflating: ./images/image12.png    \n",
            "  inflating: ./images/image13 (1).png  \n",
            "  inflating: ./images/image13 (2).png  \n",
            "  inflating: ./images/image13.png    \n",
            "  inflating: ./images/image14.png    \n",
            "  inflating: ./images/image15.png    \n",
            "  inflating: ./images/kt.png         \n",
            "  inflating: ./images/Screenshot 2025-06-09 at 4.45.19 PM.png  \n",
            "  inflating: ./images/Screenshot 2025-06-09 at 4.51.34 PM.png  \n",
            "  inflating: ./images/Screenshot 2025-06-09 at 4.51.53 PM.png  \n",
            "  inflating: ./images/Screenshot 2025-06-09 at 4.53.33 PM.png  \n",
            "  inflating: ./images/Screenshot 2025-06-09 at 4.55.53 PM.png  \n",
            "  inflating: ./images/Screenshot 2025-06-09 at 4.58.36 PM.png  \n",
            "  inflating: ./images/Screenshot 2025-06-09 at 5.13.55 PM.png  \n",
            "  inflating: ./images/Screenshot 2025-06-09 at 5.28.11 PM.png  \n",
            "  inflating: ./images/Screenshot 2025-06-10 at 1.38.40 PM.png  \n",
            "  inflating: ./images/Screenshot 2025-06-10 at 1.39.59 PM.png  \n",
            "  inflating: ./images/Screenshot 2025-06-10 at 1.40.42 PM.png  \n",
            "  inflating: ./images/Screenshot 2025-06-10 at 1.41.30 PM.png  \n",
            "  inflating: ./images/Screenshot 2025-06-10 at 1.45.22 PM.png  \n",
            "  inflating: ./images/Screenshot 2025-06-10 at 1.46.30 PM.png  \n",
            "  inflating: ./images/y050302.png    \n",
            "  inflating: ./images/y050502.png    \n",
            "  inflating: ./images/y050530.png    \n",
            "  inflating: ./images/y050549.png    \n",
            "  inflating: ./images/y050645.png    \n",
            "  inflating: ./images/y154630.png    \n",
            "  inflating: ./images/y154706.png    \n",
            "  inflating: ./images/y154834.png    \n",
            "  inflating: ./images/y155251.png    \n",
            "  inflating: ./images/y155325.png    \n",
            "  inflating: ./images/y155407.png    \n",
            "  inflating: ./images/y155443.png    \n",
            "  inflating: ./images/y160130.png    \n",
            "  inflating: ./images/y160356.png    \n",
            "  inflating: ./images/z2.png         \n",
            "  inflating: ./images/z3.png         \n",
            "  inflating: ./images/z4.png         \n",
            "  inflating: ./images/당근.png     \n",
            "  inflating: ./images/도쿄디즈니랜드.png  \n",
            "  inflating: ./images/링크드인.png  \n",
            "  inflating: ./images/메가박스.png  \n",
            "  inflating: ./images/소니-아이보.png  \n",
            "  inflating: ./images/스크린샷 2025-06-08 195700.png  \n",
            "  inflating: ./images/스크린샷 2025-06-08 195717.png  \n",
            "  inflating: ./images/스크린샷 2025-06-08 200021.png  \n",
            "  inflating: ./images/스크린샷 2025-06-08 200225.png  \n",
            "  inflating: ./images/스크린샷 2025-06-08 200547.png  \n",
            "  inflating: ./images/스크린샷 2025-06-08 200651.png  \n",
            "  inflating: ./images/스크린샷 2025-06-08 200750.png  \n",
            "  inflating: ./images/스크린샷 2025-06-08 200847.png  \n",
            "  inflating: ./images/스크린샷 2025-06-08 200909.png  \n",
            "  inflating: ./images/스크린샷 2025-06-08 201100.png  \n",
            "  inflating: ./images/스크린샷 2025-06-08 201121.png  \n",
            "  inflating: ./images/스크린샷 2025-06-08 201304.png  \n",
            "  inflating: ./images/스크린샷 2025-06-08 201434.png  \n",
            "  inflating: ./images/스크린샷 2025-06-08 203539.png  \n",
            "  inflating: ./images/실시간지하철노선도.png  \n",
            "  inflating: ./images/안경-라운즈.png  \n",
            "  inflating: ./images/에버랜드.png  \n",
            "  inflating: ./images/울프람알파.png  \n",
            "  inflating: ./images/유튜브.png  \n",
            "  inflating: ./images/이케아.png  \n",
            "  inflating: ./images/정부24.png   \n",
            "  inflating: ./images/코드잇.png  \n",
            "  inflating: ./images/a025733.png    \n"
          ]
        }
      ]
    },
    {
      "cell_type": "code",
      "source": [
        "!unzip labels.zip -d ./labels"
      ],
      "metadata": {
        "colab": {
          "base_uri": "https://localhost:8080/"
        },
        "id": "EzgaQ5DyJ_T2",
        "outputId": "c94ea319-16e8-4b45-8886-50c9e9b7a08b"
      },
      "execution_count": null,
      "outputs": [
        {
          "output_type": "stream",
          "name": "stdout",
          "text": [
            "Archive:  labels.zip\n",
            "  inflating: ./labels/a025733.txt    \n",
            "  inflating: ./labels/a030105.txt    \n",
            "  inflating: ./labels/a030125.txt    \n",
            "  inflating: ./labels/a030158.txt    \n",
            "  inflating: ./labels/a030259.txt    \n",
            "  inflating: ./labels/a030425.txt    \n",
            "  inflating: ./labels/a030708.txt    \n",
            "  inflating: ./labels/a030937.txt    \n",
            "  inflating: ./labels/Screenshot 2025-06-10 at 1.41.30 PM.txt  \n",
            "  inflating: ./labels/Screenshot 2025-06-10 at 1.45.22 PM.txt  \n",
            "  inflating: ./labels/Screenshot 2025-06-10 at 1.46.30 PM.txt  \n",
            "  inflating: ./labels/Screenshot 2025-06-09 at 4.45.19 PM.txt  \n",
            "  inflating: ./labels/Screenshot 2025-06-09 at 4.51.34 PM.txt  \n",
            "  inflating: ./labels/Screenshot 2025-06-09 at 4.51.53 PM.txt  \n",
            "  inflating: ./labels/Screenshot 2025-06-09 at 4.53.33 PM.txt  \n",
            "  inflating: ./labels/Screenshot 2025-06-09 at 4.55.53 PM.txt  \n",
            "  inflating: ./labels/Screenshot 2025-06-09 at 4.58.36 PM.txt  \n",
            "  inflating: ./labels/Screenshot 2025-06-09 at 5.13.55 PM.txt  \n",
            "  inflating: ./labels/Screenshot 2025-06-09 at 5.28.11 PM.txt  \n",
            "  inflating: ./labels/Screenshot 2025-06-10 at 1.38.40 PM.txt  \n",
            "  inflating: ./labels/Screenshot 2025-06-10 at 1.39.59 PM.txt  \n",
            "  inflating: ./labels/Screenshot 2025-06-10 at 1.40.42 PM.txt  \n",
            "  inflating: ./labels/코드잇.txt  \n",
            "  inflating: ./labels/스크린샷 2025-06-08 200021.txt  \n",
            "  inflating: ./labels/스크린샷 2025-06-08 200225.txt  \n",
            "  inflating: ./labels/스크린샷 2025-06-08 200547.txt  \n",
            "  inflating: ./labels/스크린샷 2025-06-08 200651.txt  \n",
            "  inflating: ./labels/스크린샷 2025-06-08 200750.txt  \n",
            "  inflating: ./labels/스크린샷 2025-06-08 200847.txt  \n",
            "  inflating: ./labels/스크린샷 2025-06-08 200909.txt  \n",
            "  inflating: ./labels/스크린샷 2025-06-08 201100.txt  \n",
            "  inflating: ./labels/스크린샷 2025-06-08 201121.txt  \n",
            "  inflating: ./labels/스크린샷 2025-06-08 201304.txt  \n",
            "  inflating: ./labels/스크린샷 2025-06-08 201434.txt  \n",
            "  inflating: ./labels/스크린샷 2025-06-08 203539.txt  \n",
            "  inflating: ./labels/실시간지하철노선도.txt  \n",
            "  inflating: ./labels/안경-라운즈.txt  \n",
            "  inflating: ./labels/에버랜드.txt  \n",
            "  inflating: ./labels/울프람알파.txt  \n",
            "  inflating: ./labels/유튜브.txt  \n",
            "  inflating: ./labels/이케아.txt  \n",
            "  inflating: ./labels/정부24.txt   \n",
            "  inflating: ./labels/y155251.txt    \n",
            "  inflating: ./labels/y155325.txt    \n",
            "  inflating: ./labels/y155407.txt    \n",
            "  inflating: ./labels/y155443.txt    \n",
            "  inflating: ./labels/y160130.txt    \n",
            "  inflating: ./labels/y160356.txt    \n",
            "  inflating: ./labels/z2.txt         \n",
            "  inflating: ./labels/z3.txt         \n",
            "  inflating: ./labels/z4.txt         \n",
            "  inflating: ./labels/당근.txt     \n",
            "  inflating: ./labels/도쿄디즈니랜드.txt  \n",
            "  inflating: ./labels/링크드인.txt  \n",
            "  inflating: ./labels/메가박스.txt  \n",
            "  inflating: ./labels/소니-아이보.txt  \n",
            "  inflating: ./labels/스크린샷 2025-06-08 195700.txt  \n",
            "  inflating: ./labels/스크린샷 2025-06-08 195717.txt  \n",
            "  inflating: ./labels/image8 (2).txt  \n",
            "  inflating: ./labels/image8.txt     \n",
            "  inflating: ./labels/image9 (1).txt  \n",
            "  inflating: ./labels/image9 (2).txt  \n",
            "  inflating: ./labels/image9.txt     \n",
            "  inflating: ./labels/kt.txt         \n",
            "  inflating: ./labels/y050302.txt    \n",
            "  inflating: ./labels/y050502.txt    \n",
            "  inflating: ./labels/y050530.txt    \n",
            "  inflating: ./labels/y050549.txt    \n",
            "  inflating: ./labels/y050645.txt    \n",
            "  inflating: ./labels/y154630.txt    \n",
            "  inflating: ./labels/y154706.txt    \n",
            "  inflating: ./labels/y154834.txt    \n",
            "  inflating: ./labels/image4 (1).txt  \n",
            "  inflating: ./labels/image4 (2).txt  \n",
            "  inflating: ./labels/image4.txt     \n",
            "  inflating: ./labels/image5 (1).txt  \n",
            "  inflating: ./labels/image5 (2).txt  \n",
            "  inflating: ./labels/image5.txt     \n",
            "  inflating: ./labels/image6 (1).txt  \n",
            "  inflating: ./labels/image6 (2).txt  \n",
            "  inflating: ./labels/image6.txt     \n",
            "  inflating: ./labels/image7 (1).txt  \n",
            "  inflating: ./labels/image7 (2).txt  \n",
            "  inflating: ./labels/image7.txt     \n",
            "  inflating: ./labels/image8 (1).txt  \n",
            "  inflating: ./labels/image2 (1).txt  \n",
            "  inflating: ./labels/image2 (2).txt  \n",
            "  inflating: ./labels/image2.txt     \n",
            "  inflating: ./labels/image3 (1).txt  \n",
            "  inflating: ./labels/image3 (2).txt  \n",
            "  inflating: ./labels/image3.txt     \n",
            "  inflating: ./labels/image13 (1).txt  \n",
            "  inflating: ./labels/image13 (2).txt  \n",
            "  inflating: ./labels/image13.txt    \n",
            "  inflating: ./labels/image14(1).txt  \n",
            "  inflating: ./labels/image14.txt    \n",
            "  inflating: ./labels/image15.txt    \n",
            "  inflating: ./labels/aksyd4.txt     \n",
            "  inflating: ./labels/cgv.txt        \n",
            "  inflating: ./labels/image1 (1).txt  \n",
            "  inflating: ./labels/image1 (2).txt  \n",
            "  inflating: ./labels/image1.txt     \n",
            "  inflating: ./labels/image10 (1).txt  \n",
            "  inflating: ./labels/image10 (2).txt  \n",
            "  inflating: ./labels/image10.txt    \n",
            "  inflating: ./labels/image11 (1).txt  \n",
            "  inflating: ./labels/image11 (2).txt  \n",
            "  inflating: ./labels/image11.txt    \n",
            "  inflating: ./labels/image12 (1).txt  \n",
            "  inflating: ./labels/image12 (2).txt  \n",
            "  inflating: ./labels/image12.txt    \n",
            "  inflating: ./labels/a031041.txt    \n",
            "  inflating: ./labels/a031123.txt    \n",
            "  inflating: ./labels/a031451.txt    \n",
            "  inflating: ./labels/a031510.txt    \n",
            "  inflating: ./labels/a115252.txt    \n",
            "  inflating: ./labels/aaa1.txt       \n",
            "  inflating: ./labels/aaa2.txt       \n",
            "  inflating: ./labels/aaa3.txt       \n",
            "  inflating: ./labels/aaaa.txt       \n",
            "  inflating: ./labels/ak3.txt        \n",
            "  inflating: ./labels/akk4.txt       \n",
            "  inflating: ./labels/akk5.txt       \n",
            "  inflating: ./labels/akk6.txt       \n",
            "  inflating: ./labels/aksyd2.txt     \n"
          ]
        }
      ]
    },
    {
      "cell_type": "code",
      "source": [
        "!unzip labels_des.zip -d ./labels_des"
      ],
      "metadata": {
        "colab": {
          "base_uri": "https://localhost:8080/"
        },
        "id": "0c2Y13A0KHiW",
        "outputId": "e0f6f64d-ecc8-45b3-a38e-4bcbf3e7ae94"
      },
      "execution_count": null,
      "outputs": [
        {
          "output_type": "stream",
          "name": "stdout",
          "text": [
            "Archive:  labels_des.zip\n",
            "  inflating: ./labels_des/스크린샷 2025-06-08 195700.txt  \n",
            "  inflating: ./labels_des/스크린샷 2025-06-08 195717.txt  \n",
            "  inflating: ./labels_des/스크린샷 2025-06-08 200021.txt  \n",
            "  inflating: ./labels_des/스크린샷 2025-06-08 200225.txt  \n",
            "  inflating: ./labels_des/스크린샷 2025-06-08 200547.txt  \n",
            "  inflating: ./labels_des/스크린샷 2025-06-08 200651.txt  \n",
            "  inflating: ./labels_des/스크린샷 2025-06-08 200750.txt  \n",
            "  inflating: ./labels_des/스크린샷 2025-06-08 200847.txt  \n",
            "  inflating: ./labels_des/스크린샷 2025-06-08 200909.txt  \n",
            "  inflating: ./labels_des/스크린샷 2025-06-08 201100.txt  \n",
            "  inflating: ./labels_des/스크린샷 2025-06-08 201121.txt  \n",
            "  inflating: ./labels_des/스크린샷 2025-06-08 201304.txt  \n",
            "  inflating: ./labels_des/스크린샷 2025-06-08 201434.txt  \n",
            "  inflating: ./labels_des/스크린샷 2025-06-08 203539.txt  \n",
            "  inflating: ./labels_des/실시간지하철노선도_desc.txt  \n",
            "  inflating: ./labels_des/안경-라운즈_desc.txt  \n",
            "  inflating: ./labels_des/에버랜드_desc.txt  \n",
            "  inflating: ./labels_des/울프람알파_desc.txt  \n",
            "  inflating: ./labels_des/유튜브_desc.txt  \n",
            "  inflating: ./labels_des/이케아_desc.txt  \n",
            "  inflating: ./labels_des/정부24_desc.txt  \n",
            "  inflating: ./labels_des/코드잇_desc.txt  \n",
            "  inflating: ./labels_des/y160130.txt  \n",
            "  inflating: ./labels_des/y160356.txt  \n",
            "  inflating: ./labels_des/a025733.txt  \n",
            "  inflating: ./labels_des/a030105.txt  \n",
            "  inflating: ./labels_des/a030125.txt  \n",
            "  inflating: ./labels_des/a030158.txt  \n",
            "  inflating: ./labels_des/a030259.txt  \n",
            "  inflating: ./labels_des/a030425.txt  \n",
            "  inflating: ./labels_des/a030708.txt  \n",
            "  inflating: ./labels_des/a030937.txt  \n",
            "  inflating: ./labels_des/a031041.txt  \n",
            "  inflating: ./labels_des/a031123.txt  \n",
            "  inflating: ./labels_des/a031451.txt  \n",
            "  inflating: ./labels_des/a031510.txt  \n",
            "  inflating: ./labels_des/a115252.txt  \n",
            "  inflating: ./labels_des/aaa1.txt   \n",
            "  inflating: ./labels_des/aaa2.txt   \n",
            "  inflating: ./labels_des/aaa3.txt   \n",
            "  inflating: ./labels_des/aaaa.txt   \n",
            "  inflating: ./labels_des/ak3.txt    \n",
            "  inflating: ./labels_des/akk4.txt   \n",
            "  inflating: ./labels_des/akk5.txt   \n",
            "  inflating: ./labels_des/akk6.txt   \n",
            "  inflating: ./labels_des/aksyd2.txt  \n",
            "  inflating: ./labels_des/aksyd4.txt  \n",
            "  inflating: ./labels_des/y050302.txt  \n",
            "  inflating: ./labels_des/y050502.txt  \n",
            "  inflating: ./labels_des/y050530.txt  \n",
            "  inflating: ./labels_des/y050549.txt  \n",
            "  inflating: ./labels_des/y050645.txt  \n",
            "  inflating: ./labels_des/y154630.txt  \n",
            "  inflating: ./labels_des/y154706.txt  \n",
            "  inflating: ./labels_des/y154834.txt  \n",
            "  inflating: ./labels_des/y155251.txt  \n",
            "  inflating: ./labels_des/y155325.txt  \n",
            "  inflating: ./labels_des/y155407.txt  \n",
            "  inflating: ./labels_des/y155443.txt  \n",
            "  inflating: ./labels_des/z2.txt     \n",
            "  inflating: ./labels_des/z3.txt     \n",
            "  inflating: ./labels_des/z4.txt     \n",
            "  inflating: ./labels_des/image1_des (1).txt  \n",
            "  inflating: ./labels_des/image1_des (2).txt  \n",
            "  inflating: ./labels_des/image1_des.txt  \n",
            "  inflating: ./labels_des/image2_des (1).txt  \n",
            "  inflating: ./labels_des/image2_des (2).txt  \n",
            "  inflating: ./labels_des/image2_des.txt  \n",
            "  inflating: ./labels_des/image3_des (1).txt  \n",
            "  inflating: ./labels_des/image3_des (2).txt  \n",
            "  inflating: ./labels_des/image3_des.txt  \n",
            "  inflating: ./labels_des/image4_des (1).txt  \n",
            "  inflating: ./labels_des/image4_des (2).txt  \n",
            "  inflating: ./labels_des/image4_des.txt  \n",
            "  inflating: ./labels_des/image5_des (1).txt  \n",
            "  inflating: ./labels_des/image5_des (2).txt  \n",
            "  inflating: ./labels_des/image5_des.txt  \n",
            "  inflating: ./labels_des/image6_des (1).txt  \n",
            "  inflating: ./labels_des/image6_des (2).txt  \n",
            "  inflating: ./labels_des/image6_des.txt  \n",
            "  inflating: ./labels_des/image7_des (1).txt  \n",
            "  inflating: ./labels_des/image7_des (2).txt  \n",
            "  inflating: ./labels_des/image7_des.txt  \n",
            "  inflating: ./labels_des/image8_des (1).txt  \n",
            "  inflating: ./labels_des/image8_des (2).txt  \n",
            "  inflating: ./labels_des/image8_des.txt  \n",
            "  inflating: ./labels_des/image9_des (1).txt  \n",
            "  inflating: ./labels_des/image9_des (2).txt  \n",
            "  inflating: ./labels_des/image9_des.txt  \n",
            "  inflating: ./labels_des/image10_des (1).txt  \n",
            "  inflating: ./labels_des/image10_des (2).txt  \n",
            "  inflating: ./labels_des/image10_des.txt  \n",
            "  inflating: ./labels_des/image11_des (1).txt  \n",
            "  inflating: ./labels_des/image11_des (2).txt  \n",
            "  inflating: ./labels_des/image11_des.txt  \n",
            "  inflating: ./labels_des/image12_des (1).txt  \n",
            "  inflating: ./labels_des/image12_des (2).txt  \n",
            "  inflating: ./labels_des/image12_des.txt  \n",
            "  inflating: ./labels_des/image13_des (1).txt  \n",
            "  inflating: ./labels_des/image13_des (2).txt  \n",
            "  inflating: ./labels_des/image13_des.txt  \n",
            "  inflating: ./labels_des/image14_des (1).txt  \n",
            "  inflating: ./labels_des/image14_des.txt  \n",
            "  inflating: ./labels_des/image15_des.txt  \n",
            "  inflating: ./labels_des/cgv_desc.txt  \n",
            "  inflating: ./labels_des/kt_desc.txt  \n",
            "  inflating: ./labels_des/Screenshot 2025-06-09 at 4.45.19 PM_with_description.txt  \n",
            "  inflating: ./labels_des/Screenshot 2025-06-09 at 4.51.34PM_with_description.txt  \n",
            "  inflating: ./labels_des/Screenshot 2025-06-09 at 4.51.53PM_with_description.txt  \n",
            "  inflating: ./labels_des/Screenshot 2025-06-09 at 4.53.33 PM_with_description.txt  \n",
            "  inflating: ./labels_des/Screenshot 2025-06-09 at 4.55.53 PM_with_description.txt  \n",
            "  inflating: ./labels_des/Screenshot 2025-06-09 at 4.58.36PM_with_description.txt  \n",
            "  inflating: ./labels_des/Screenshot 2025-06-09 at 5.13.55 PM_with_description.txt  \n",
            "  inflating: ./labels_des/Screenshot 2025-06-09 at 5.28.11 PM_with_description.txt  \n",
            "  inflating: ./labels_des/Screenshot 2025-06-10 at 1.38.40PM_with_description.txt  \n",
            "  inflating: ./labels_des/Screenshot 2025-06-10 at 1.39.59PM_with_description.txt  \n",
            "  inflating: ./labels_des/Screenshot 2025-06-10 at 1.40.42 PM_with_description.txt  \n",
            "  inflating: ./labels_des/Screenshot 2025-06-10 at 1.41.30 PM_with_description.txt  \n",
            "  inflating: ./labels_des/Screenshot 2025-06-10 at 1.45.22 PM_with_description.txt  \n",
            "  inflating: ./labels_des/Screenshot 2025-06-10 at 1.46.30PM_with_description.txt  \n",
            "  inflating: ./labels_des/당근_desc.txt  \n",
            "  inflating: ./labels_des/도쿄디즈니랜드_desc.txt  \n",
            "  inflating: ./labels_des/링크드인_desc.txt  \n",
            "  inflating: ./labels_des/메가박스_desc.txt  \n",
            "  inflating: ./labels_des/소니-아이보_desc.txt  \n"
          ]
        }
      ]
    },
    {
      "cell_type": "markdown",
      "source": [
        "### 데이터셋 검증"
      ],
      "metadata": {
        "id": "8mxkdAM-4_eS"
      }
    },
    {
      "cell_type": "code",
      "source": [
        "from pathlib import Path\n",
        "\n",
        "image_dir = Path(\"images\")\n",
        "pred_dir = Path(\"labels\")\n",
        "gt_dir = Path(\"labels_des\")\n",
        "\n",
        "# 확장자 무시하고 stem만 비교\n",
        "image_stems = set(f.stem for f in image_dir.glob(\"*.png\"))\n",
        "pred_stems = set(f.stem for f in pred_dir.glob(\"*.txt\"))\n",
        "gt_stems = set(f.stem for f in gt_dir.glob(\"*.txt\"))\n",
        "\n",
        "# 누락된 항목 확인\n",
        "missing_pred = image_stems - pred_stems\n",
        "missing_gt = image_stems - gt_stems\n",
        "all_valid = image_stems & pred_stems & gt_stems\n",
        "\n",
        "print(f\"✅ 평가 가능 이미지 수: {len(all_valid)}\")\n",
        "print(f\"❌ 예측 라벨(.txt) 없는 이미지 수: {len(missing_pred)}\")\n",
        "print(f\"❌ 정답 라벨(.txt) 없는 이미지 수: {len(missing_gt)}\")\n",
        "\n",
        "# 누락된 일부 출력\n",
        "print(\"\\n[예측 라벨 없는 이미지]:\")\n",
        "print(sorted(list(missing_pred))[:10])\n",
        "\n",
        "print(\"\\n[정답 라벨 없는 이미지]:\")\n",
        "print(sorted(list(missing_gt))[:10])\n"
      ],
      "metadata": {
        "colab": {
          "base_uri": "https://localhost:8080/"
        },
        "id": "-Sn1IyicL8Ik",
        "outputId": "d9a4d931-575a-46dc-8aff-9e8100ea8f80"
      },
      "execution_count": null,
      "outputs": [
        {
          "output_type": "stream",
          "name": "stdout",
          "text": [
            "✅ 평가 가능 이미지 수: 54\n",
            "❌ 예측 라벨(.txt) 없는 이미지 수: 0\n",
            "❌ 정답 라벨(.txt) 없는 이미지 수: 70\n",
            "\n",
            "[예측 라벨 없는 이미지]:\n",
            "[]\n",
            "\n",
            "[정답 라벨 없는 이미지]:\n",
            "['Screenshot 2025-06-09 at 4.45.19\\u202fPM', 'Screenshot 2025-06-09 at 4.51.34\\u202fPM', 'Screenshot 2025-06-09 at 4.51.53\\u202fPM', 'Screenshot 2025-06-09 at 4.53.33\\u202fPM', 'Screenshot 2025-06-09 at 4.55.53\\u202fPM', 'Screenshot 2025-06-09 at 4.58.36\\u202fPM', 'Screenshot 2025-06-09 at 5.13.55\\u202fPM', 'Screenshot 2025-06-09 at 5.28.11\\u202fPM', 'Screenshot 2025-06-10 at 1.38.40\\u202fPM', 'Screenshot 2025-06-10 at 1.39.59\\u202fPM']\n"
          ]
        }
      ]
    },
    {
      "cell_type": "markdown",
      "source": [
        "### BLIP으로 캡셔닝 + BERTScore으로 평가\n",
        "\n"
      ],
      "metadata": {
        "id": "17tDmMts5Jzu"
      }
    },
    {
      "cell_type": "code",
      "source": [
        "import os\n",
        "from pathlib import Path\n",
        "from PIL import Image\n",
        "from transformers import BlipProcessor, BlipForConditionalGeneration\n",
        "from bert_score import score\n",
        "import torch\n",
        "import pandas as pd\n",
        "\n",
        "# 설정\n",
        "image_dir = Path(\"images\")\n",
        "pred_dir = Path(\"labels\")\n",
        "gt_dir = Path(\"labels_des\")\n",
        "result_csv = \"results.csv\"\n",
        "\n",
        "# BLIP 모델 로드\n",
        "device = \"cuda\" if torch.cuda.is_available() else \"cpu\"\n",
        "processor = BlipProcessor.from_pretrained(\"Salesforce/blip-image-captioning-base\")\n",
        "model = BlipForConditionalGeneration.from_pretrained(\"Salesforce/blip-image-captioning-base\").to(device)\n",
        "\n",
        "# 이미지 이름 목록 필터링: 정답 라벨 존재하는 이미지만\n",
        "image_stems = set(f.stem for f in image_dir.glob(\"*.png\"))\n",
        "gt_stems = set(f.stem for f in gt_dir.glob(\"*.txt\"))\n",
        "valid_stems = image_stems & gt_stems\n",
        "print(f\"✅ 정답 라벨 있는 이미지 수: {len(valid_stems)}\")\n",
        "\n",
        "# 결과 저장 리스트\n",
        "results = []\n",
        "\n",
        "# 평가 루프\n",
        "for stem in sorted(valid_stems):\n",
        "    image_file = image_dir / f\"{stem}.png\"\n",
        "    pred_file = pred_dir / f\"{stem}.txt\"\n",
        "    gt_file = gt_dir / f\"{stem}.txt\"\n",
        "\n",
        "    if not image_file.exists() or not pred_file.exists() or not gt_file.exists():\n",
        "        print(f\"[🚫 파일 없음] {stem}\")\n",
        "        continue\n",
        "\n",
        "    with open(pred_file, \"r\") as f:\n",
        "        pred_lines = f.readlines()\n",
        "    with open(gt_file, \"r\") as f:\n",
        "        gt_lines = f.readlines()\n",
        "    if len(pred_lines) == 0 or len(gt_lines) == 0:\n",
        "        print(f\"[⚠️ 라벨 비어있음] {stem}\")\n",
        "        continue\n",
        "\n",
        "    # 이미지 로드\n",
        "    image = Image.open(image_file).convert(\"RGB\")\n",
        "    w, h = image.size\n",
        "\n",
        "    # 예측 → crop → 캡션\n",
        "    pred_caps = []\n",
        "    for line in pred_lines:\n",
        "        parts = list(map(float, line.strip().split()))\n",
        "        if len(parts) != 5:\n",
        "            continue\n",
        "        _, cx, cy, bw, bh = parts\n",
        "        x1 = int((cx - bw / 2) * w)\n",
        "        y1 = int((cy - bh / 2) * h)\n",
        "        x2 = int((cx + bw / 2) * w)\n",
        "        y2 = int((cy + bh / 2) * h)\n",
        "        crop = image.crop((x1, y1, x2, y2))\n",
        "\n",
        "        try:\n",
        "            inputs = processor(images=crop, return_tensors=\"pt\").to(device)\n",
        "            out = model.generate(**inputs)\n",
        "            caption = processor.decode(out[0], skip_special_tokens=True)\n",
        "            pred_caps.append(caption)\n",
        "        except Exception as e:\n",
        "            print(f\"[❌ 캡션 생성 오류] {stem}: {e}\")\n",
        "            continue\n",
        "\n",
        "    # 정답 캡션 수집\n",
        "    gt_caps = []\n",
        "    for line in gt_lines:\n",
        "        parts = line.strip().split()\n",
        "        if len(parts) > 5:\n",
        "            gt_caps.append(\" \".join(parts[5:]))\n",
        "\n",
        "    min_len = min(len(pred_caps), len(gt_caps))\n",
        "    if min_len == 0:\n",
        "        print(f\"[⚠️ 평가 생략] {stem} → pred: {len(pred_caps)}, gt: {len(gt_caps)}\")\n",
        "        continue\n",
        "\n",
        "    pred_caps = pred_caps[:min_len]\n",
        "    gt_caps = gt_caps[:min_len]\n",
        "\n",
        "    # BERTScore 계산\n",
        "    try:\n",
        "        P, R, F1 = score(pred_caps, gt_caps, lang=\"en\", verbose=False)\n",
        "        avg_f1 = F1.mean().item()\n",
        "    except Exception as e:\n",
        "        print(f\"[❌ BERTScore 오류] {stem}: {e}\")\n",
        "        continue\n",
        "\n",
        "    results.append({\n",
        "        \"image\": stem,\n",
        "        \"num_preds\": len(pred_caps),\n",
        "        \"num_gts\": len(gt_caps),\n",
        "        \"bert_f1\": avg_f1\n",
        "    })\n",
        "\n",
        "    print(f\"[✅ 완료] {stem}: BERT F1 = {avg_f1:.4f}\")\n",
        "\n",
        "# 결과 저장\n",
        "df = pd.DataFrame(results)\n",
        "df.to_csv(result_csv, index=False)\n",
        "print(f\"\\n📄 결과 저장 완료: {result_csv}\")"
      ],
      "metadata": {
        "colab": {
          "base_uri": "https://localhost:8080/"
        },
        "id": "MNISOivPMQd9",
        "outputId": "97ebb457-2a4a-4e36-8138-c30edcf4a107"
      },
      "execution_count": null,
      "outputs": [
        {
          "output_type": "stream",
          "name": "stdout",
          "text": [
            "✅ 정답 라벨 있는 이미지 수: 54\n"
          ]
        },
        {
          "output_type": "stream",
          "name": "stderr",
          "text": [
            "Some weights of RobertaModel were not initialized from the model checkpoint at roberta-large and are newly initialized: ['pooler.dense.bias', 'pooler.dense.weight']\n",
            "You should probably TRAIN this model on a down-stream task to be able to use it for predictions and inference.\n"
          ]
        },
        {
          "output_type": "stream",
          "name": "stdout",
          "text": [
            "[✅ 완료] a025733: BERT F1 = 0.8354\n"
          ]
        },
        {
          "output_type": "stream",
          "name": "stderr",
          "text": [
            "Some weights of RobertaModel were not initialized from the model checkpoint at roberta-large and are newly initialized: ['pooler.dense.bias', 'pooler.dense.weight']\n",
            "You should probably TRAIN this model on a down-stream task to be able to use it for predictions and inference.\n"
          ]
        },
        {
          "output_type": "stream",
          "name": "stdout",
          "text": [
            "[✅ 완료] a030105: BERT F1 = 0.8284\n"
          ]
        },
        {
          "output_type": "stream",
          "name": "stderr",
          "text": [
            "Some weights of RobertaModel were not initialized from the model checkpoint at roberta-large and are newly initialized: ['pooler.dense.bias', 'pooler.dense.weight']\n",
            "You should probably TRAIN this model on a down-stream task to be able to use it for predictions and inference.\n"
          ]
        },
        {
          "output_type": "stream",
          "name": "stdout",
          "text": [
            "[✅ 완료] a030125: BERT F1 = 0.8300\n"
          ]
        },
        {
          "output_type": "stream",
          "name": "stderr",
          "text": [
            "Some weights of RobertaModel were not initialized from the model checkpoint at roberta-large and are newly initialized: ['pooler.dense.bias', 'pooler.dense.weight']\n",
            "You should probably TRAIN this model on a down-stream task to be able to use it for predictions and inference.\n"
          ]
        },
        {
          "output_type": "stream",
          "name": "stdout",
          "text": [
            "[✅ 완료] a030158: BERT F1 = 0.8369\n"
          ]
        },
        {
          "output_type": "stream",
          "name": "stderr",
          "text": [
            "Some weights of RobertaModel were not initialized from the model checkpoint at roberta-large and are newly initialized: ['pooler.dense.bias', 'pooler.dense.weight']\n",
            "You should probably TRAIN this model on a down-stream task to be able to use it for predictions and inference.\n"
          ]
        },
        {
          "output_type": "stream",
          "name": "stdout",
          "text": [
            "[✅ 완료] a030259: BERT F1 = 0.8270\n"
          ]
        },
        {
          "output_type": "stream",
          "name": "stderr",
          "text": [
            "Some weights of RobertaModel were not initialized from the model checkpoint at roberta-large and are newly initialized: ['pooler.dense.bias', 'pooler.dense.weight']\n",
            "You should probably TRAIN this model on a down-stream task to be able to use it for predictions and inference.\n"
          ]
        },
        {
          "output_type": "stream",
          "name": "stdout",
          "text": [
            "[✅ 완료] a030425: BERT F1 = 0.8299\n"
          ]
        },
        {
          "output_type": "stream",
          "name": "stderr",
          "text": [
            "Some weights of RobertaModel were not initialized from the model checkpoint at roberta-large and are newly initialized: ['pooler.dense.bias', 'pooler.dense.weight']\n",
            "You should probably TRAIN this model on a down-stream task to be able to use it for predictions and inference.\n"
          ]
        },
        {
          "output_type": "stream",
          "name": "stdout",
          "text": [
            "[✅ 완료] a030708: BERT F1 = 0.8316\n"
          ]
        },
        {
          "output_type": "stream",
          "name": "stderr",
          "text": [
            "Some weights of RobertaModel were not initialized from the model checkpoint at roberta-large and are newly initialized: ['pooler.dense.bias', 'pooler.dense.weight']\n",
            "You should probably TRAIN this model on a down-stream task to be able to use it for predictions and inference.\n"
          ]
        },
        {
          "output_type": "stream",
          "name": "stdout",
          "text": [
            "[✅ 완료] a030937: BERT F1 = 0.8265\n"
          ]
        },
        {
          "output_type": "stream",
          "name": "stderr",
          "text": [
            "Some weights of RobertaModel were not initialized from the model checkpoint at roberta-large and are newly initialized: ['pooler.dense.bias', 'pooler.dense.weight']\n",
            "You should probably TRAIN this model on a down-stream task to be able to use it for predictions and inference.\n"
          ]
        },
        {
          "output_type": "stream",
          "name": "stdout",
          "text": [
            "[✅ 완료] a031041: BERT F1 = 0.8250\n"
          ]
        },
        {
          "output_type": "stream",
          "name": "stderr",
          "text": [
            "Some weights of RobertaModel were not initialized from the model checkpoint at roberta-large and are newly initialized: ['pooler.dense.bias', 'pooler.dense.weight']\n",
            "You should probably TRAIN this model on a down-stream task to be able to use it for predictions and inference.\n"
          ]
        },
        {
          "output_type": "stream",
          "name": "stdout",
          "text": [
            "[✅ 완료] a031123: BERT F1 = 0.8265\n"
          ]
        },
        {
          "output_type": "stream",
          "name": "stderr",
          "text": [
            "Some weights of RobertaModel were not initialized from the model checkpoint at roberta-large and are newly initialized: ['pooler.dense.bias', 'pooler.dense.weight']\n",
            "You should probably TRAIN this model on a down-stream task to be able to use it for predictions and inference.\n"
          ]
        },
        {
          "output_type": "stream",
          "name": "stdout",
          "text": [
            "[✅ 완료] a031451: BERT F1 = 0.8298\n"
          ]
        },
        {
          "output_type": "stream",
          "name": "stderr",
          "text": [
            "Some weights of RobertaModel were not initialized from the model checkpoint at roberta-large and are newly initialized: ['pooler.dense.bias', 'pooler.dense.weight']\n",
            "You should probably TRAIN this model on a down-stream task to be able to use it for predictions and inference.\n"
          ]
        },
        {
          "output_type": "stream",
          "name": "stdout",
          "text": [
            "[✅ 완료] a031510: BERT F1 = 0.8327\n"
          ]
        },
        {
          "output_type": "stream",
          "name": "stderr",
          "text": [
            "Some weights of RobertaModel were not initialized from the model checkpoint at roberta-large and are newly initialized: ['pooler.dense.bias', 'pooler.dense.weight']\n",
            "You should probably TRAIN this model on a down-stream task to be able to use it for predictions and inference.\n"
          ]
        },
        {
          "output_type": "stream",
          "name": "stdout",
          "text": [
            "[✅ 완료] a115252: BERT F1 = 0.8314\n"
          ]
        },
        {
          "output_type": "stream",
          "name": "stderr",
          "text": [
            "Some weights of RobertaModel were not initialized from the model checkpoint at roberta-large and are newly initialized: ['pooler.dense.bias', 'pooler.dense.weight']\n",
            "You should probably TRAIN this model on a down-stream task to be able to use it for predictions and inference.\n"
          ]
        },
        {
          "output_type": "stream",
          "name": "stdout",
          "text": [
            "[✅ 완료] aaa1: BERT F1 = 0.8185\n"
          ]
        },
        {
          "output_type": "stream",
          "name": "stderr",
          "text": [
            "Some weights of RobertaModel were not initialized from the model checkpoint at roberta-large and are newly initialized: ['pooler.dense.bias', 'pooler.dense.weight']\n",
            "You should probably TRAIN this model on a down-stream task to be able to use it for predictions and inference.\n"
          ]
        },
        {
          "output_type": "stream",
          "name": "stdout",
          "text": [
            "[✅ 완료] aaa2: BERT F1 = 0.8244\n"
          ]
        },
        {
          "output_type": "stream",
          "name": "stderr",
          "text": [
            "Some weights of RobertaModel were not initialized from the model checkpoint at roberta-large and are newly initialized: ['pooler.dense.bias', 'pooler.dense.weight']\n",
            "You should probably TRAIN this model on a down-stream task to be able to use it for predictions and inference.\n"
          ]
        },
        {
          "output_type": "stream",
          "name": "stdout",
          "text": [
            "[✅ 완료] aaa3: BERT F1 = 0.8242\n"
          ]
        },
        {
          "output_type": "stream",
          "name": "stderr",
          "text": [
            "Some weights of RobertaModel were not initialized from the model checkpoint at roberta-large and are newly initialized: ['pooler.dense.bias', 'pooler.dense.weight']\n",
            "You should probably TRAIN this model on a down-stream task to be able to use it for predictions and inference.\n"
          ]
        },
        {
          "output_type": "stream",
          "name": "stdout",
          "text": [
            "[✅ 완료] aaaa: BERT F1 = 0.8310\n"
          ]
        },
        {
          "output_type": "stream",
          "name": "stderr",
          "text": [
            "Some weights of RobertaModel were not initialized from the model checkpoint at roberta-large and are newly initialized: ['pooler.dense.bias', 'pooler.dense.weight']\n",
            "You should probably TRAIN this model on a down-stream task to be able to use it for predictions and inference.\n"
          ]
        },
        {
          "output_type": "stream",
          "name": "stdout",
          "text": [
            "[✅ 완료] ak3: BERT F1 = 0.8218\n"
          ]
        },
        {
          "output_type": "stream",
          "name": "stderr",
          "text": [
            "Some weights of RobertaModel were not initialized from the model checkpoint at roberta-large and are newly initialized: ['pooler.dense.bias', 'pooler.dense.weight']\n",
            "You should probably TRAIN this model on a down-stream task to be able to use it for predictions and inference.\n"
          ]
        },
        {
          "output_type": "stream",
          "name": "stdout",
          "text": [
            "[✅ 완료] akk4: BERT F1 = 0.8162\n"
          ]
        },
        {
          "output_type": "stream",
          "name": "stderr",
          "text": [
            "Some weights of RobertaModel were not initialized from the model checkpoint at roberta-large and are newly initialized: ['pooler.dense.bias', 'pooler.dense.weight']\n",
            "You should probably TRAIN this model on a down-stream task to be able to use it for predictions and inference.\n"
          ]
        },
        {
          "output_type": "stream",
          "name": "stdout",
          "text": [
            "[✅ 완료] akk5: BERT F1 = 0.8198\n"
          ]
        },
        {
          "output_type": "stream",
          "name": "stderr",
          "text": [
            "Some weights of RobertaModel were not initialized from the model checkpoint at roberta-large and are newly initialized: ['pooler.dense.bias', 'pooler.dense.weight']\n",
            "You should probably TRAIN this model on a down-stream task to be able to use it for predictions and inference.\n"
          ]
        },
        {
          "output_type": "stream",
          "name": "stdout",
          "text": [
            "[✅ 완료] akk6: BERT F1 = 0.8156\n"
          ]
        },
        {
          "output_type": "stream",
          "name": "stderr",
          "text": [
            "Some weights of RobertaModel were not initialized from the model checkpoint at roberta-large and are newly initialized: ['pooler.dense.bias', 'pooler.dense.weight']\n",
            "You should probably TRAIN this model on a down-stream task to be able to use it for predictions and inference.\n"
          ]
        },
        {
          "output_type": "stream",
          "name": "stdout",
          "text": [
            "[✅ 완료] aksyd2: BERT F1 = 0.8291\n"
          ]
        },
        {
          "output_type": "stream",
          "name": "stderr",
          "text": [
            "Some weights of RobertaModel were not initialized from the model checkpoint at roberta-large and are newly initialized: ['pooler.dense.bias', 'pooler.dense.weight']\n",
            "You should probably TRAIN this model on a down-stream task to be able to use it for predictions and inference.\n"
          ]
        },
        {
          "output_type": "stream",
          "name": "stdout",
          "text": [
            "[✅ 완료] aksyd4: BERT F1 = 0.8351\n"
          ]
        },
        {
          "output_type": "stream",
          "name": "stderr",
          "text": [
            "Some weights of RobertaModel were not initialized from the model checkpoint at roberta-large and are newly initialized: ['pooler.dense.bias', 'pooler.dense.weight']\n",
            "You should probably TRAIN this model on a down-stream task to be able to use it for predictions and inference.\n"
          ]
        },
        {
          "output_type": "stream",
          "name": "stdout",
          "text": [
            "[✅ 완료] y050302: BERT F1 = 0.8394\n"
          ]
        },
        {
          "output_type": "stream",
          "name": "stderr",
          "text": [
            "Some weights of RobertaModel were not initialized from the model checkpoint at roberta-large and are newly initialized: ['pooler.dense.bias', 'pooler.dense.weight']\n",
            "You should probably TRAIN this model on a down-stream task to be able to use it for predictions and inference.\n"
          ]
        },
        {
          "output_type": "stream",
          "name": "stdout",
          "text": [
            "[✅ 완료] y050502: BERT F1 = 0.8293\n"
          ]
        },
        {
          "output_type": "stream",
          "name": "stderr",
          "text": [
            "Some weights of RobertaModel were not initialized from the model checkpoint at roberta-large and are newly initialized: ['pooler.dense.bias', 'pooler.dense.weight']\n",
            "You should probably TRAIN this model on a down-stream task to be able to use it for predictions and inference.\n"
          ]
        },
        {
          "output_type": "stream",
          "name": "stdout",
          "text": [
            "[✅ 완료] y050530: BERT F1 = 0.8367\n",
            "[⚠️ 평가 생략] y050549 → pred: 28, gt: 0\n",
            "[⚠️ 평가 생략] y050645 → pred: 47, gt: 0\n"
          ]
        },
        {
          "output_type": "stream",
          "name": "stderr",
          "text": [
            "Some weights of RobertaModel were not initialized from the model checkpoint at roberta-large and are newly initialized: ['pooler.dense.bias', 'pooler.dense.weight']\n",
            "You should probably TRAIN this model on a down-stream task to be able to use it for predictions and inference.\n"
          ]
        },
        {
          "output_type": "stream",
          "name": "stdout",
          "text": [
            "[✅ 완료] y154630: BERT F1 = 0.8349\n"
          ]
        },
        {
          "output_type": "stream",
          "name": "stderr",
          "text": [
            "Some weights of RobertaModel were not initialized from the model checkpoint at roberta-large and are newly initialized: ['pooler.dense.bias', 'pooler.dense.weight']\n",
            "You should probably TRAIN this model on a down-stream task to be able to use it for predictions and inference.\n"
          ]
        },
        {
          "output_type": "stream",
          "name": "stdout",
          "text": [
            "[✅ 완료] y154706: BERT F1 = 0.8511\n"
          ]
        },
        {
          "output_type": "stream",
          "name": "stderr",
          "text": [
            "Some weights of RobertaModel were not initialized from the model checkpoint at roberta-large and are newly initialized: ['pooler.dense.bias', 'pooler.dense.weight']\n",
            "You should probably TRAIN this model on a down-stream task to be able to use it for predictions and inference.\n"
          ]
        },
        {
          "output_type": "stream",
          "name": "stdout",
          "text": [
            "[✅ 완료] y154834: BERT F1 = 0.8480\n"
          ]
        },
        {
          "output_type": "stream",
          "name": "stderr",
          "text": [
            "Some weights of RobertaModel were not initialized from the model checkpoint at roberta-large and are newly initialized: ['pooler.dense.bias', 'pooler.dense.weight']\n",
            "You should probably TRAIN this model on a down-stream task to be able to use it for predictions and inference.\n"
          ]
        },
        {
          "output_type": "stream",
          "name": "stdout",
          "text": [
            "[✅ 완료] y155251: BERT F1 = 0.8405\n"
          ]
        },
        {
          "output_type": "stream",
          "name": "stderr",
          "text": [
            "Some weights of RobertaModel were not initialized from the model checkpoint at roberta-large and are newly initialized: ['pooler.dense.bias', 'pooler.dense.weight']\n",
            "You should probably TRAIN this model on a down-stream task to be able to use it for predictions and inference.\n"
          ]
        },
        {
          "output_type": "stream",
          "name": "stdout",
          "text": [
            "[✅ 완료] y155325: BERT F1 = 0.8544\n"
          ]
        },
        {
          "output_type": "stream",
          "name": "stderr",
          "text": [
            "Some weights of RobertaModel were not initialized from the model checkpoint at roberta-large and are newly initialized: ['pooler.dense.bias', 'pooler.dense.weight']\n",
            "You should probably TRAIN this model on a down-stream task to be able to use it for predictions and inference.\n"
          ]
        },
        {
          "output_type": "stream",
          "name": "stdout",
          "text": [
            "[✅ 완료] y155407: BERT F1 = 0.8323\n"
          ]
        },
        {
          "output_type": "stream",
          "name": "stderr",
          "text": [
            "Some weights of RobertaModel were not initialized from the model checkpoint at roberta-large and are newly initialized: ['pooler.dense.bias', 'pooler.dense.weight']\n",
            "You should probably TRAIN this model on a down-stream task to be able to use it for predictions and inference.\n"
          ]
        },
        {
          "output_type": "stream",
          "name": "stdout",
          "text": [
            "[✅ 완료] y155443: BERT F1 = 0.8442\n"
          ]
        },
        {
          "output_type": "stream",
          "name": "stderr",
          "text": [
            "Some weights of RobertaModel were not initialized from the model checkpoint at roberta-large and are newly initialized: ['pooler.dense.bias', 'pooler.dense.weight']\n",
            "You should probably TRAIN this model on a down-stream task to be able to use it for predictions and inference.\n"
          ]
        },
        {
          "output_type": "stream",
          "name": "stdout",
          "text": [
            "[✅ 완료] y160130: BERT F1 = 0.8326\n"
          ]
        },
        {
          "output_type": "stream",
          "name": "stderr",
          "text": [
            "Some weights of RobertaModel were not initialized from the model checkpoint at roberta-large and are newly initialized: ['pooler.dense.bias', 'pooler.dense.weight']\n",
            "You should probably TRAIN this model on a down-stream task to be able to use it for predictions and inference.\n"
          ]
        },
        {
          "output_type": "stream",
          "name": "stdout",
          "text": [
            "[✅ 완료] y160356: BERT F1 = 0.8566\n"
          ]
        },
        {
          "output_type": "stream",
          "name": "stderr",
          "text": [
            "Some weights of RobertaModel were not initialized from the model checkpoint at roberta-large and are newly initialized: ['pooler.dense.bias', 'pooler.dense.weight']\n",
            "You should probably TRAIN this model on a down-stream task to be able to use it for predictions and inference.\n"
          ]
        },
        {
          "output_type": "stream",
          "name": "stdout",
          "text": [
            "[✅ 완료] z2: BERT F1 = 0.8376\n"
          ]
        },
        {
          "output_type": "stream",
          "name": "stderr",
          "text": [
            "Some weights of RobertaModel were not initialized from the model checkpoint at roberta-large and are newly initialized: ['pooler.dense.bias', 'pooler.dense.weight']\n",
            "You should probably TRAIN this model on a down-stream task to be able to use it for predictions and inference.\n"
          ]
        },
        {
          "output_type": "stream",
          "name": "stdout",
          "text": [
            "[✅ 완료] z3: BERT F1 = 0.8262\n"
          ]
        },
        {
          "output_type": "stream",
          "name": "stderr",
          "text": [
            "Some weights of RobertaModel were not initialized from the model checkpoint at roberta-large and are newly initialized: ['pooler.dense.bias', 'pooler.dense.weight']\n",
            "You should probably TRAIN this model on a down-stream task to be able to use it for predictions and inference.\n"
          ]
        },
        {
          "output_type": "stream",
          "name": "stdout",
          "text": [
            "[✅ 완료] z4: BERT F1 = 0.8282\n"
          ]
        },
        {
          "output_type": "stream",
          "name": "stderr",
          "text": [
            "Some weights of RobertaModel were not initialized from the model checkpoint at roberta-large and are newly initialized: ['pooler.dense.bias', 'pooler.dense.weight']\n",
            "You should probably TRAIN this model on a down-stream task to be able to use it for predictions and inference.\n"
          ]
        },
        {
          "output_type": "stream",
          "name": "stdout",
          "text": [
            "[✅ 완료] 스크린샷 2025-06-08 195700: BERT F1 = 0.8242\n"
          ]
        },
        {
          "output_type": "stream",
          "name": "stderr",
          "text": [
            "Some weights of RobertaModel were not initialized from the model checkpoint at roberta-large and are newly initialized: ['pooler.dense.bias', 'pooler.dense.weight']\n",
            "You should probably TRAIN this model on a down-stream task to be able to use it for predictions and inference.\n"
          ]
        },
        {
          "output_type": "stream",
          "name": "stdout",
          "text": [
            "[✅ 완료] 스크린샷 2025-06-08 195717: BERT F1 = 0.8305\n"
          ]
        },
        {
          "output_type": "stream",
          "name": "stderr",
          "text": [
            "Some weights of RobertaModel were not initialized from the model checkpoint at roberta-large and are newly initialized: ['pooler.dense.bias', 'pooler.dense.weight']\n",
            "You should probably TRAIN this model on a down-stream task to be able to use it for predictions and inference.\n"
          ]
        },
        {
          "output_type": "stream",
          "name": "stdout",
          "text": [
            "[✅ 완료] 스크린샷 2025-06-08 200021: BERT F1 = 0.8219\n"
          ]
        },
        {
          "output_type": "stream",
          "name": "stderr",
          "text": [
            "Some weights of RobertaModel were not initialized from the model checkpoint at roberta-large and are newly initialized: ['pooler.dense.bias', 'pooler.dense.weight']\n",
            "You should probably TRAIN this model on a down-stream task to be able to use it for predictions and inference.\n"
          ]
        },
        {
          "output_type": "stream",
          "name": "stdout",
          "text": [
            "[✅ 완료] 스크린샷 2025-06-08 200225: BERT F1 = 0.8352\n"
          ]
        },
        {
          "output_type": "stream",
          "name": "stderr",
          "text": [
            "Some weights of RobertaModel were not initialized from the model checkpoint at roberta-large and are newly initialized: ['pooler.dense.bias', 'pooler.dense.weight']\n",
            "You should probably TRAIN this model on a down-stream task to be able to use it for predictions and inference.\n"
          ]
        },
        {
          "output_type": "stream",
          "name": "stdout",
          "text": [
            "[✅ 완료] 스크린샷 2025-06-08 200547: BERT F1 = 0.8169\n"
          ]
        },
        {
          "output_type": "stream",
          "name": "stderr",
          "text": [
            "Some weights of RobertaModel were not initialized from the model checkpoint at roberta-large and are newly initialized: ['pooler.dense.bias', 'pooler.dense.weight']\n",
            "You should probably TRAIN this model on a down-stream task to be able to use it for predictions and inference.\n"
          ]
        },
        {
          "output_type": "stream",
          "name": "stdout",
          "text": [
            "[✅ 완료] 스크린샷 2025-06-08 200651: BERT F1 = 0.8329\n"
          ]
        },
        {
          "output_type": "stream",
          "name": "stderr",
          "text": [
            "Some weights of RobertaModel were not initialized from the model checkpoint at roberta-large and are newly initialized: ['pooler.dense.bias', 'pooler.dense.weight']\n",
            "You should probably TRAIN this model on a down-stream task to be able to use it for predictions and inference.\n"
          ]
        },
        {
          "output_type": "stream",
          "name": "stdout",
          "text": [
            "[✅ 완료] 스크린샷 2025-06-08 200750: BERT F1 = 0.8170\n"
          ]
        },
        {
          "output_type": "stream",
          "name": "stderr",
          "text": [
            "Some weights of RobertaModel were not initialized from the model checkpoint at roberta-large and are newly initialized: ['pooler.dense.bias', 'pooler.dense.weight']\n",
            "You should probably TRAIN this model on a down-stream task to be able to use it for predictions and inference.\n"
          ]
        },
        {
          "output_type": "stream",
          "name": "stdout",
          "text": [
            "[✅ 완료] 스크린샷 2025-06-08 200847: BERT F1 = 0.8289\n"
          ]
        },
        {
          "output_type": "stream",
          "name": "stderr",
          "text": [
            "Some weights of RobertaModel were not initialized from the model checkpoint at roberta-large and are newly initialized: ['pooler.dense.bias', 'pooler.dense.weight']\n",
            "You should probably TRAIN this model on a down-stream task to be able to use it for predictions and inference.\n"
          ]
        },
        {
          "output_type": "stream",
          "name": "stdout",
          "text": [
            "[✅ 완료] 스크린샷 2025-06-08 200909: BERT F1 = 0.8164\n"
          ]
        },
        {
          "output_type": "stream",
          "name": "stderr",
          "text": [
            "Some weights of RobertaModel were not initialized from the model checkpoint at roberta-large and are newly initialized: ['pooler.dense.bias', 'pooler.dense.weight']\n",
            "You should probably TRAIN this model on a down-stream task to be able to use it for predictions and inference.\n"
          ]
        },
        {
          "output_type": "stream",
          "name": "stdout",
          "text": [
            "[✅ 완료] 스크린샷 2025-06-08 201100: BERT F1 = 0.8313\n"
          ]
        },
        {
          "output_type": "stream",
          "name": "stderr",
          "text": [
            "Some weights of RobertaModel were not initialized from the model checkpoint at roberta-large and are newly initialized: ['pooler.dense.bias', 'pooler.dense.weight']\n",
            "You should probably TRAIN this model on a down-stream task to be able to use it for predictions and inference.\n"
          ]
        },
        {
          "output_type": "stream",
          "name": "stdout",
          "text": [
            "[✅ 완료] 스크린샷 2025-06-08 201121: BERT F1 = 0.8263\n"
          ]
        },
        {
          "output_type": "stream",
          "name": "stderr",
          "text": [
            "Some weights of RobertaModel were not initialized from the model checkpoint at roberta-large and are newly initialized: ['pooler.dense.bias', 'pooler.dense.weight']\n",
            "You should probably TRAIN this model on a down-stream task to be able to use it for predictions and inference.\n"
          ]
        },
        {
          "output_type": "stream",
          "name": "stdout",
          "text": [
            "[✅ 완료] 스크린샷 2025-06-08 201304: BERT F1 = 0.8297\n"
          ]
        },
        {
          "output_type": "stream",
          "name": "stderr",
          "text": [
            "Some weights of RobertaModel were not initialized from the model checkpoint at roberta-large and are newly initialized: ['pooler.dense.bias', 'pooler.dense.weight']\n",
            "You should probably TRAIN this model on a down-stream task to be able to use it for predictions and inference.\n"
          ]
        },
        {
          "output_type": "stream",
          "name": "stdout",
          "text": [
            "[✅ 완료] 스크린샷 2025-06-08 201434: BERT F1 = 0.8334\n"
          ]
        },
        {
          "output_type": "stream",
          "name": "stderr",
          "text": [
            "Some weights of RobertaModel were not initialized from the model checkpoint at roberta-large and are newly initialized: ['pooler.dense.bias', 'pooler.dense.weight']\n",
            "You should probably TRAIN this model on a down-stream task to be able to use it for predictions and inference.\n"
          ]
        },
        {
          "output_type": "stream",
          "name": "stdout",
          "text": [
            "[✅ 완료] 스크린샷 2025-06-08 203539: BERT F1 = 0.8317\n",
            "\n",
            "📄 결과 저장 완료: results.csv\n"
          ]
        }
      ]
    },
    {
      "cell_type": "markdown",
      "source": [
        "### 다른 성능 지표들도 추가 (이미지 5개만)"
      ],
      "metadata": {
        "id": "V6nKnmER5WZB"
      }
    },
    {
      "cell_type": "code",
      "source": [
        "import os\n",
        "from pathlib import Path\n",
        "from PIL import Image\n",
        "from transformers import BlipProcessor, BlipForConditionalGeneration\n",
        "from bert_score import score\n",
        "import torch\n",
        "import pandas as pd\n",
        "import evaluate\n",
        "\n",
        "# 설정\n",
        "image_dir = Path(\"images\")\n",
        "pred_dir = Path(\"labels\")\n",
        "gt_dir = Path(\"labels_des\")\n",
        "result_csv = \"results.csv\"\n",
        "caption_csv = \"captions.csv\"\n",
        "\n",
        "# BLIP 모델 로드\n",
        "device = \"cuda\" if torch.cuda.is_available() else \"cpu\"\n",
        "processor = BlipProcessor.from_pretrained(\"Salesforce/blip-image-captioning-base\")\n",
        "model = BlipForConditionalGeneration.from_pretrained(\"Salesforce/blip-image-captioning-base\").to(device)\n",
        "\n",
        "# 평가 지표 로드\n",
        "bleu = evaluate.load(\"bleu\")\n",
        "meteor = evaluate.load(\"meteor\")\n",
        "rouge = evaluate.load(\"rouge\")\n",
        "\n",
        "# 유효 이미지 이름 (5개만)\n",
        "image_stems = sorted(f.stem for f in image_dir.glob(\"*.png\"))\n",
        "gt_stems = set(f.stem for f in gt_dir.glob(\"*.txt\"))\n",
        "valid_stems = sorted(list(set(image_stems) & gt_stems))[:5]\n",
        "print(f\"✅ 평가 대상 이미지 수: {len(valid_stems)}\")\n",
        "\n",
        "# 저장 리스트\n",
        "results = []\n",
        "captions = []\n",
        "all_preds = []\n",
        "all_gts = []\n",
        "\n",
        "# 평가 루프\n",
        "for stem in valid_stems:\n",
        "    image_file = image_dir / f\"{stem}.png\"\n",
        "    pred_file = pred_dir / f\"{stem}.txt\"\n",
        "    gt_file = gt_dir / f\"{stem}.txt\"\n",
        "\n",
        "    if not image_file.exists() or not pred_file.exists() or not gt_file.exists():\n",
        "        print(f\"[🚫 파일 없음] {stem}\")\n",
        "        continue\n",
        "\n",
        "    with open(pred_file, \"r\") as f:\n",
        "        pred_lines = f.readlines()\n",
        "    with open(gt_file, \"r\") as f:\n",
        "        gt_lines = f.readlines()\n",
        "    if len(pred_lines) == 0 or len(gt_lines) == 0:\n",
        "        print(f\"[⚠️ 라벨 비어있음] {stem}\")\n",
        "        continue\n",
        "\n",
        "    image = Image.open(image_file).convert(\"RGB\")\n",
        "    w, h = image.size\n",
        "\n",
        "    pred_caps = []\n",
        "    for line in pred_lines:\n",
        "        parts = list(map(float, line.strip().split()))\n",
        "        if len(parts) != 5:\n",
        "            continue\n",
        "        _, cx, cy, bw, bh = parts\n",
        "        x1 = int((cx - bw / 2) * w)\n",
        "        y1 = int((cy - bh / 2) * h)\n",
        "        x2 = int((cx + bw / 2) * w)\n",
        "        y2 = int((cy + bh / 2) * h)\n",
        "        crop = image.crop((x1, y1, x2, y2))\n",
        "\n",
        "        try:\n",
        "            inputs = processor(images=crop, return_tensors=\"pt\").to(device)\n",
        "            out = model.generate(**inputs)\n",
        "            caption = processor.decode(out[0], skip_special_tokens=True)\n",
        "            pred_caps.append(caption)\n",
        "        except Exception as e:\n",
        "            print(f\"[❌ 캡션 생성 오류] {stem}: {e}\")\n",
        "            continue\n",
        "\n",
        "    gt_caps = []\n",
        "    for line in gt_lines:\n",
        "        parts = line.strip().split()\n",
        "        if len(parts) > 5:\n",
        "            gt_caps.append(\" \".join(parts[5:]))\n",
        "\n",
        "    min_len = min(len(pred_caps), len(gt_caps))\n",
        "    if min_len == 0:\n",
        "        print(f\"[⚠️ 평가 생략] {stem} → pred: {len(pred_caps)}, gt: {len(gt_caps)}\")\n",
        "        continue\n",
        "\n",
        "    pred_caps = pred_caps[:min_len]\n",
        "    gt_caps = gt_caps[:min_len]\n",
        "\n",
        "    # BERTScore\n",
        "    try:\n",
        "        P, R, F1 = score(pred_caps, gt_caps, lang=\"en\", verbose=False)\n",
        "        avg_f1 = F1.mean().item()\n",
        "    except Exception as e:\n",
        "        print(f\"[❌ BERTScore 오류] {stem}: {e}\")\n",
        "        continue\n",
        "\n",
        "    results.append({\n",
        "        \"image\": stem,\n",
        "        \"num_preds\": len(pred_caps),\n",
        "        \"num_gts\": len(gt_caps),\n",
        "        \"bert_f1\": avg_f1\n",
        "    })\n",
        "\n",
        "    # caption 저장\n",
        "    for i in range(min_len):\n",
        "        captions.append({\n",
        "            \"image\": stem,\n",
        "            \"object_id\": i,\n",
        "            \"pred_caption\": pred_caps[i],\n",
        "            \"gt_caption\": gt_caps[i]\n",
        "        })\n",
        "\n",
        "    # 지표용 전체 저장\n",
        "    all_preds.extend(pred_caps[:min_len])\n",
        "    all_gts.extend(gt_caps[:min_len])\n",
        "\n",
        "    print(f\"[✅ 완료] {stem}: BERT F1 = {avg_f1:.4f}\")\n",
        "\n",
        "# CSV 저장\n",
        "pd.DataFrame(results).to_csv(result_csv, index=False)\n",
        "pd.DataFrame(captions).to_csv(caption_csv, index=False)\n",
        "print(f\"\\n📄 저장 완료: {result_csv}, {caption_csv}\")\n",
        "\n",
        "# 추가 지표 계산\n",
        "if all_preds and all_gts and len(all_preds) == len(all_gts):\n",
        "    bleu_result = bleu.compute(predictions=all_preds, references=[[r] for r in all_gts])\n",
        "    meteor_result = meteor.compute(predictions=all_preds, references=all_gts)\n",
        "    rouge_result = rouge.compute(predictions=all_preds, references=all_gts)\n",
        "\n",
        "    print(\"\\n📊 추가 평가 지표:\")\n",
        "    print(f\"BLEU: {bleu_result}\")\n",
        "    print(f\"METEOR: {meteor_result['meteor']:.4f}\")\n",
        "    print(f\"ROUGE-L: {rouge_result['rougeL']:.4f}\")\n",
        "else:\n",
        "    print(\"⚠️ BLEU/METEOR/ROUGE 계산 불가: 캡션 수 불일치 또는 없음\")"
      ],
      "metadata": {
        "colab": {
          "base_uri": "https://localhost:8080/"
        },
        "id": "jzJfkCrOLqbA",
        "outputId": "37a7f9e0-1f8b-4e7a-f87c-3df6a9f9afbb"
      },
      "execution_count": null,
      "outputs": [
        {
          "output_type": "stream",
          "name": "stderr",
          "text": [
            "[nltk_data] Downloading package wordnet to /root/nltk_data...\n",
            "[nltk_data]   Package wordnet is already up-to-date!\n",
            "[nltk_data] Downloading package punkt_tab to /root/nltk_data...\n",
            "[nltk_data]   Package punkt_tab is already up-to-date!\n",
            "[nltk_data] Downloading package omw-1.4 to /root/nltk_data...\n",
            "[nltk_data]   Package omw-1.4 is already up-to-date!\n"
          ]
        },
        {
          "output_type": "stream",
          "name": "stdout",
          "text": [
            "✅ 평가 대상 이미지 수: 5\n"
          ]
        },
        {
          "output_type": "stream",
          "name": "stderr",
          "text": [
            "Some weights of RobertaModel were not initialized from the model checkpoint at roberta-large and are newly initialized: ['pooler.dense.bias', 'pooler.dense.weight']\n",
            "You should probably TRAIN this model on a down-stream task to be able to use it for predictions and inference.\n"
          ]
        },
        {
          "output_type": "stream",
          "name": "stdout",
          "text": [
            "[✅ 완료] a025733: BERT F1 = 0.8354\n"
          ]
        },
        {
          "output_type": "stream",
          "name": "stderr",
          "text": [
            "Some weights of RobertaModel were not initialized from the model checkpoint at roberta-large and are newly initialized: ['pooler.dense.bias', 'pooler.dense.weight']\n",
            "You should probably TRAIN this model on a down-stream task to be able to use it for predictions and inference.\n"
          ]
        },
        {
          "output_type": "stream",
          "name": "stdout",
          "text": [
            "[✅ 완료] a030105: BERT F1 = 0.8284\n"
          ]
        },
        {
          "output_type": "stream",
          "name": "stderr",
          "text": [
            "Some weights of RobertaModel were not initialized from the model checkpoint at roberta-large and are newly initialized: ['pooler.dense.bias', 'pooler.dense.weight']\n",
            "You should probably TRAIN this model on a down-stream task to be able to use it for predictions and inference.\n"
          ]
        },
        {
          "output_type": "stream",
          "name": "stdout",
          "text": [
            "[✅ 완료] a030125: BERT F1 = 0.8300\n"
          ]
        },
        {
          "output_type": "stream",
          "name": "stderr",
          "text": [
            "Some weights of RobertaModel were not initialized from the model checkpoint at roberta-large and are newly initialized: ['pooler.dense.bias', 'pooler.dense.weight']\n",
            "You should probably TRAIN this model on a down-stream task to be able to use it for predictions and inference.\n"
          ]
        },
        {
          "output_type": "stream",
          "name": "stdout",
          "text": [
            "[✅ 완료] a030158: BERT F1 = 0.8369\n"
          ]
        },
        {
          "output_type": "stream",
          "name": "stderr",
          "text": [
            "Some weights of RobertaModel were not initialized from the model checkpoint at roberta-large and are newly initialized: ['pooler.dense.bias', 'pooler.dense.weight']\n",
            "You should probably TRAIN this model on a down-stream task to be able to use it for predictions and inference.\n"
          ]
        },
        {
          "output_type": "stream",
          "name": "stdout",
          "text": [
            "[✅ 완료] a030259: BERT F1 = 0.8270\n",
            "\n",
            "📄 저장 완료: results.csv, captions.csv\n",
            "\n",
            "📊 추가 평가 지표:\n",
            "BLEU: {'bleu': 0.0, 'precisions': [0.008004926108374385, 0.0, 0.0, 0.0], 'brevity_penalty': 1.0, 'length_ratio': 3.4775160599571735, 'translation_length': 1624, 'reference_length': 467}\n",
            "METEOR: 0.0089\n",
            "ROUGE-L: 0.0109\n"
          ]
        }
      ]
    },
    {
      "cell_type": "markdown",
      "source": [
        "### 성능 시각화"
      ],
      "metadata": {
        "id": "Y0VENZ1u5kYn"
      }
    },
    {
      "cell_type": "code",
      "source": [
        "import matplotlib.pyplot as plt\n",
        "import seaborn as sns\n",
        "\n",
        "# 시각화용 데이터 준비\n",
        "scores = {\n",
        "    \"BERTScore (F1)\": round(df[\"bert_f1\"].mean(), 4),   # df는 results.csv에서 불러온 결과라고 가정\n",
        "    \"BLEU\": round(bleu_result[\"bleu\"], 4),\n",
        "    \"METEOR\": round(meteor_result[\"meteor\"], 4),\n",
        "    \"ROUGE-L\": round(rouge_result[\"rougeL\"], 4)\n",
        "}\n",
        "\n",
        "# 시각화\n",
        "plt.figure(figsize=(8, 5))\n",
        "sns.barplot(x=list(scores.keys()), y=list(scores.values()), palette=\"Blues_d\")\n",
        "plt.ylim(0, 1.0)\n",
        "plt.title(\"📊 Caption Evaluation Scores\")\n",
        "plt.ylabel(\"Score\")\n",
        "plt.xlabel(\"Metric\")\n",
        "plt.grid(axis=\"y\", linestyle=\"--\", alpha=0.5)\n",
        "for i, (label, score) in enumerate(scores.items()):\n",
        "    plt.text(i, score + 0.02, f\"{score:.2f}\", ha='center', fontsize=11)\n",
        "plt.tight_layout()\n",
        "plt.show()"
      ],
      "metadata": {
        "colab": {
          "base_uri": "https://localhost:8080/",
          "height": 507
        },
        "id": "vHVLiEnhdhyF",
        "outputId": "e95e4960-8291-494d-d9fc-d67ed7f20002"
      },
      "execution_count": null,
      "outputs": [
        {
          "output_type": "display_data",
          "data": {
            "text/plain": [
              "<Figure size 800x500 with 1 Axes>"
            ],
            "image/png": "[encoded data removed]"
          },
          "metadata": {}
        }
      ]
    },
    {
      "cell_type": "code",
      "source": [
        "import matplotlib.pyplot as plt\n",
        "import seaborn as sns\n",
        "\n",
        "# 예시 점수 (직접 계산한 결과를 여기에 넣으면 됨)\n",
        "scores = {\n",
        "    \"BERTScore (F1)\": 0.8354,\n",
        "    \"BLEU\": 0.0,\n",
        "    \"METEOR\": 0.0089,\n",
        "    \"ROUGE-L\": 0.0109\n",
        "}\n",
        "\n",
        "# BERTScore 제외\n",
        "subset = {k: v for k, v in scores.items() if \"BERT\" not in k}\n",
        "\n",
        "# 시각화\n",
        "plt.figure(figsize=(6, 4))\n",
        "sns.barplot(x=list(subset.keys()), y=list(subset.values()), palette=\"Greens_d\")\n",
        "plt.ylim(0, max(subset.values()) * 1.2 + 0.01)  # 보기 좋게 여유\n",
        "plt.title(\"📊 METEOR / BLEU / ROUGE-L Scores (excluding BERTScore)\")\n",
        "plt.ylabel(\"Score\")\n",
        "plt.xlabel(\"Metric\")\n",
        "plt.grid(axis=\"y\", linestyle=\"--\", alpha=0.5)\n",
        "\n",
        "# 각 막대 위에 수치 표시\n",
        "for i, (label, score) in enumerate(subset.items()):\n",
        "    plt.text(i, score + 0.002, f\"{score:.4f}\", ha='center', fontsize=11)\n",
        "\n",
        "plt.tight_layout()\n",
        "plt.show()"
      ],
      "metadata": {
        "colab": {
          "base_uri": "https://localhost:8080/",
          "height": 407
        },
        "id": "_KixnsGueLD_",
        "outputId": "5e6d41cb-334f-4954-9d6c-b53697f2fb66"
      },
      "execution_count": null,
      "outputs": [
        {
          "output_type": "display_data",
          "data": {
            "text/plain": [
              "<Figure size 600x400 with 1 Axes>"
            ],
            "image/png": "[encoded data removed]"
          },
          "metadata": {}
        }
      ]
    }
  ]
}